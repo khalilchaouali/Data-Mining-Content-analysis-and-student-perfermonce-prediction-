{
  "nbformat": 4,
  "nbformat_minor": 0,
  "metadata": {
    "colab": {
      "name": "data_upload_&_cleaning.ipynb",
      "provenance": [],
      "collapsed_sections": []
    },
    "kernelspec": {
      "name": "python3",
      "display_name": "Python 3"
    }
  },
  "cells": [
    {
      "cell_type": "markdown",
      "metadata": {
        "id": "rV68mcHuvnV2"
      },
      "source": [
        "IMPORTING LIBRARIES"
      ]
    },
    {
      "cell_type": "code",
      "metadata": {
        "id": "Wt8PjbUlvOYt",
        "outputId": "45f160c9-a4bc-4379-a3d0-6ef4fa44dacb",
        "colab": {
          "base_uri": "https://localhost:8080/",
          "height": 71
        }
      },
      "source": [
        "import pandas as pd\n",
        "import numpy as np\n",
        "import matplotlib.pyplot as plt\n",
        "import seaborn as sns\n",
        "from sklearn.preprocessing import StandardScaler\n",
        "from datetime import datetime\n",
        "from datetime import timedelta"
      ],
      "execution_count": null,
      "outputs": [
        {
          "output_type": "stream",
          "text": [
            "/usr/local/lib/python3.6/dist-packages/statsmodels/tools/_testing.py:19: FutureWarning: pandas.util.testing is deprecated. Use the functions in the public API at pandas.testing instead.\n",
            "  import pandas.util.testing as tm\n"
          ],
          "name": "stderr"
        }
      ]
    },
    {
      "cell_type": "markdown",
      "metadata": {
        "id": "JxH9xB-0vskq"
      },
      "source": [
        "LOADING DATA FILES"
      ]
    },
    {
      "cell_type": "code",
      "metadata": {
        "id": "ziBQXciXw5W-"
      },
      "source": [
        "onetone_skill = pd.read_csv('1to1_skill.csv')\n",
        "ai_assessments = pd.read_csv('ai_assessments.csv')\n",
        "scores_durations = pd.read_csv('cp_scores_duration.csv')"
      ],
      "execution_count": null,
      "outputs": []
    },
    {
      "cell_type": "markdown",
      "metadata": {
        "id": "Vj0Lkegywwvc"
      },
      "source": [
        "MODIFY COLUMN NAMES"
      ]
    },
    {
      "cell_type": "code",
      "metadata": {
        "id": "oULXViuaxWRw"
      },
      "source": [
        "onetone_skill.rename(columns={'p.id': 'student id','t.name':'track','s.name':'skill','o.answers':'answers','o.score':'score'},inplace=True)\n",
        "ai_assessments.rename(columns={'p.id':'student id','s.name':'skill','c.trackId':'track id','c.isRetaken':'isRetaken','c.firstScore':'first score','c.firstSkillUnderstandingDuration':'skill understanding duration','c.firstAssessmentDuration':'duration of assessement','c.switchCounter':'number of switches'},inplace=True)\n",
        "scores_durations.rename(columns={'p.id': 'student id','t.name':'track','(s.name)':'skill', '(c.score)':'score', '(c.qualityScore)':'quality score', '(c.problemSolvingScore)':'problem solving score', '(c.technicalScore)': 'technical score', '(c.unlockDate)':'unlock date', '(c.submissionDate)':'submission date'}, inplace=True)"
      ],
      "execution_count": null,
      "outputs": []
    },
    {
      "cell_type": "markdown",
      "metadata": {
        "id": "SERT-VLR0ZNp"
      },
      "source": [
        "SELECT MACHINE LEARNING CHECKPOINTS"
      ]
    },
    {
      "cell_type": "code",
      "metadata": {
        "id": "ABn6Fyb00Ycc",
        "outputId": "1764a0bf-f330-4bc9-c2ff-17a387807be5",
        "colab": {
          "base_uri": "https://localhost:8080/",
          "height": 983
        }
      },
      "source": [
        "scores_durations=scores_durations[scores_durations['track']=='introduction-to-artificial-intelligence']\n",
        "scores_durations"
      ],
      "execution_count": null,
      "outputs": [
        {
          "output_type": "execute_result",
          "data": {
            "text/html": [
              "<div>\n",
              "<style scoped>\n",
              "    .dataframe tbody tr th:only-of-type {\n",
              "        vertical-align: middle;\n",
              "    }\n",
              "\n",
              "    .dataframe tbody tr th {\n",
              "        vertical-align: top;\n",
              "    }\n",
              "\n",
              "    .dataframe thead th {\n",
              "        text-align: right;\n",
              "    }\n",
              "</style>\n",
              "<table border=\"1\" class=\"dataframe\">\n",
              "  <thead>\n",
              "    <tr style=\"text-align: right;\">\n",
              "      <th></th>\n",
              "      <th>student id</th>\n",
              "      <th>track</th>\n",
              "      <th>skill</th>\n",
              "      <th>score</th>\n",
              "      <th>quality score</th>\n",
              "      <th>problem solving score</th>\n",
              "      <th>technical score</th>\n",
              "      <th>unlock date</th>\n",
              "      <th>submission date</th>\n",
              "    </tr>\n",
              "  </thead>\n",
              "  <tbody>\n",
              "    <tr>\n",
              "      <th>416</th>\n",
              "      <td>a8046ba0-675c-453c-802c-b25c42821a99</td>\n",
              "      <td>introduction-to-artificial-intelligence</td>\n",
              "      <td>data-visualization</td>\n",
              "      <td>8.000000</td>\n",
              "      <td>7.0</td>\n",
              "      <td>9.0</td>\n",
              "      <td>8.0</td>\n",
              "      <td>2020-07-14T09:52:59.4643281+00:00</td>\n",
              "      <td>2020-07-16T14:57:12.5557918+00:00</td>\n",
              "    </tr>\n",
              "    <tr>\n",
              "      <th>417</th>\n",
              "      <td>2bef53d1-628b-4807-ab54-b1d455ad517f</td>\n",
              "      <td>introduction-to-artificial-intelligence</td>\n",
              "      <td>data-visualization</td>\n",
              "      <td>8.333333</td>\n",
              "      <td>8.0</td>\n",
              "      <td>9.0</td>\n",
              "      <td>8.0</td>\n",
              "      <td>2020-07-13T08:49:20.3791166+00:00</td>\n",
              "      <td>2020-07-15T09:27:37.0024445+00:00</td>\n",
              "    </tr>\n",
              "    <tr>\n",
              "      <th>418</th>\n",
              "      <td>8c1fc1d5-e2b9-4c85-a9fc-87d6b225f996</td>\n",
              "      <td>introduction-to-artificial-intelligence</td>\n",
              "      <td>data-visualization</td>\n",
              "      <td>7.000000</td>\n",
              "      <td>7.0</td>\n",
              "      <td>7.0</td>\n",
              "      <td>7.0</td>\n",
              "      <td>2020-07-13T08:20:52.6073432+00:00</td>\n",
              "      <td>2020-07-14T11:14:14.8890558+00:00</td>\n",
              "    </tr>\n",
              "    <tr>\n",
              "      <th>419</th>\n",
              "      <td>592359a2-db7e-4eb3-9a8f-c7c62ffa1866</td>\n",
              "      <td>introduction-to-artificial-intelligence</td>\n",
              "      <td>data-visualization</td>\n",
              "      <td>8.333333</td>\n",
              "      <td>8.0</td>\n",
              "      <td>9.0</td>\n",
              "      <td>8.0</td>\n",
              "      <td>2020-07-10T08:48:29.5569032+00:00</td>\n",
              "      <td>2020-07-14T09:49:11.6757806+00:00</td>\n",
              "    </tr>\n",
              "    <tr>\n",
              "      <th>420</th>\n",
              "      <td>724429a8-bd0d-4797-a4af-eb427f618ea9</td>\n",
              "      <td>introduction-to-artificial-intelligence</td>\n",
              "      <td>data-visualization</td>\n",
              "      <td>8.666667</td>\n",
              "      <td>9.0</td>\n",
              "      <td>8.0</td>\n",
              "      <td>9.0</td>\n",
              "      <td>2020-07-07T15:42:14.4156425+00:00</td>\n",
              "      <td>2020-07-07T15:42:40.2356756+00:00</td>\n",
              "    </tr>\n",
              "    <tr>\n",
              "      <th>...</th>\n",
              "      <td>...</td>\n",
              "      <td>...</td>\n",
              "      <td>...</td>\n",
              "      <td>...</td>\n",
              "      <td>...</td>\n",
              "      <td>...</td>\n",
              "      <td>...</td>\n",
              "      <td>...</td>\n",
              "      <td>...</td>\n",
              "    </tr>\n",
              "    <tr>\n",
              "      <th>3326</th>\n",
              "      <td>aea3cb4c-df2c-4953-ab70-eb0aeed49d21</td>\n",
              "      <td>introduction-to-artificial-intelligence</td>\n",
              "      <td>K Nearest Neighbor</td>\n",
              "      <td>5.000000</td>\n",
              "      <td>5.0</td>\n",
              "      <td>5.0</td>\n",
              "      <td>5.0</td>\n",
              "      <td>2020-05-10T11:30:33.8105674+00:00</td>\n",
              "      <td>2020-05-12T21:29:30.6387121+00:00</td>\n",
              "    </tr>\n",
              "    <tr>\n",
              "      <th>3327</th>\n",
              "      <td>8d3c26e6-1ff0-4062-a1d0-0f466121dad5</td>\n",
              "      <td>introduction-to-artificial-intelligence</td>\n",
              "      <td>K Nearest Neighbor</td>\n",
              "      <td>9.000000</td>\n",
              "      <td>9.0</td>\n",
              "      <td>9.0</td>\n",
              "      <td>9.0</td>\n",
              "      <td>2020-05-17T12:31:52.1672753+00:00</td>\n",
              "      <td>2020-05-30T05:52:36.0660093+00:00</td>\n",
              "    </tr>\n",
              "    <tr>\n",
              "      <th>3328</th>\n",
              "      <td>5418c688-13e6-4e27-a280-b5113a4d9715</td>\n",
              "      <td>introduction-to-artificial-intelligence</td>\n",
              "      <td>K Nearest Neighbor</td>\n",
              "      <td>9.333333</td>\n",
              "      <td>10.0</td>\n",
              "      <td>9.0</td>\n",
              "      <td>9.0</td>\n",
              "      <td>2020-05-27T23:27:08.1801539+00:00</td>\n",
              "      <td>2020-05-29T15:08:03.4354485+00:00</td>\n",
              "    </tr>\n",
              "    <tr>\n",
              "      <th>3329</th>\n",
              "      <td>171832de-cbf6-415c-bef5-5206a463a5c9</td>\n",
              "      <td>introduction-to-artificial-intelligence</td>\n",
              "      <td>K Nearest Neighbor</td>\n",
              "      <td>10.000000</td>\n",
              "      <td>10.0</td>\n",
              "      <td>10.0</td>\n",
              "      <td>10.0</td>\n",
              "      <td>2020-05-29T23:28:01.2581962+00:00</td>\n",
              "      <td>2020-05-31T00:42:32.3318802+00:00</td>\n",
              "    </tr>\n",
              "    <tr>\n",
              "      <th>3330</th>\n",
              "      <td>863cfb1e-d058-4fb3-a525-c3b78a8b8548</td>\n",
              "      <td>introduction-to-artificial-intelligence</td>\n",
              "      <td>K Nearest Neighbor</td>\n",
              "      <td>3.333333</td>\n",
              "      <td>4.0</td>\n",
              "      <td>3.0</td>\n",
              "      <td>3.0</td>\n",
              "      <td>2020-06-05T22:56:15.1572373+00:00</td>\n",
              "      <td>2020-06-07T11:34:31.9777142+00:00</td>\n",
              "    </tr>\n",
              "  </tbody>\n",
              "</table>\n",
              "<p>481 rows × 9 columns</p>\n",
              "</div>"
            ],
            "text/plain": [
              "                                student id  ...                    submission date\n",
              "416   a8046ba0-675c-453c-802c-b25c42821a99  ...  2020-07-16T14:57:12.5557918+00:00\n",
              "417   2bef53d1-628b-4807-ab54-b1d455ad517f  ...  2020-07-15T09:27:37.0024445+00:00\n",
              "418   8c1fc1d5-e2b9-4c85-a9fc-87d6b225f996  ...  2020-07-14T11:14:14.8890558+00:00\n",
              "419   592359a2-db7e-4eb3-9a8f-c7c62ffa1866  ...  2020-07-14T09:49:11.6757806+00:00\n",
              "420   724429a8-bd0d-4797-a4af-eb427f618ea9  ...  2020-07-07T15:42:40.2356756+00:00\n",
              "...                                    ...  ...                                ...\n",
              "3326  aea3cb4c-df2c-4953-ab70-eb0aeed49d21  ...  2020-05-12T21:29:30.6387121+00:00\n",
              "3327  8d3c26e6-1ff0-4062-a1d0-0f466121dad5  ...  2020-05-30T05:52:36.0660093+00:00\n",
              "3328  5418c688-13e6-4e27-a280-b5113a4d9715  ...  2020-05-29T15:08:03.4354485+00:00\n",
              "3329  171832de-cbf6-415c-bef5-5206a463a5c9  ...  2020-05-31T00:42:32.3318802+00:00\n",
              "3330  863cfb1e-d058-4fb3-a525-c3b78a8b8548  ...  2020-06-07T11:34:31.9777142+00:00\n",
              "\n",
              "[481 rows x 9 columns]"
            ]
          },
          "metadata": {
            "tags": []
          },
          "execution_count": 4
        }
      ]
    },
    {
      "cell_type": "markdown",
      "metadata": {
        "id": "KiVh4tQ-1vsj"
      },
      "source": [
        "DROP UNNECESSARY COLUMNS"
      ]
    },
    {
      "cell_type": "markdown",
      "metadata": {
        "id": "xCZ7eaG1jCbF"
      },
      "source": [
        "CALCULATE THE CHECKPOINT DURATION"
      ]
    },
    {
      "cell_type": "code",
      "metadata": {
        "id": "N3b2KaewWYSV"
      },
      "source": [
        "submission_date=scores_durations['submission date']\n",
        "unlock_date=scores_durations['unlock date']"
      ],
      "execution_count": null,
      "outputs": []
    },
    {
      "cell_type": "code",
      "metadata": {
        "id": "fw8qrfCjSSiU",
        "outputId": "94e72b62-6b7b-40a8-cf7d-9c502b5e44ec",
        "colab": {
          "base_uri": "https://localhost:8080/",
          "height": 545
        }
      },
      "source": [
        "checkpoint_duration=[]\n",
        "for i in range(submission_date.size):\n",
        "   submission_date[i]=submission_date[i].split('.')\n",
        "   submission_date[i]=str(submission_date[i][0]).split(\"T\")\n",
        "   submission_date[i] =  datetime.strptime(submission_date[i][0]+' '+submission_date[i][1], '%Y-%m-%d %H:%M:%S')\n",
        "   unlock_date[i]=str(unlock_date[i]).split('.')\n",
        "   unlock_date[i]=str(unlock_date[i][0]).split(\"T\")\n",
        "   #print(submission_date[i][1])\n",
        "   unlock_date[i] =  datetime.strptime(unlock_date[i][0]+' '+unlock_date[i][1], '%Y-%m-%d %H:%M:%S')\n",
        "   checkpoint_duration.append(timedelta.total_seconds(scores_durations['submission date'][i]-scores_durations['unlock date'][i]))"
      ],
      "execution_count": null,
      "outputs": [
        {
          "output_type": "error",
          "ename": "KeyError",
          "evalue": "ignored",
          "traceback": [
            "\u001b[0;31m---------------------------------------------------------------------------\u001b[0m",
            "\u001b[0;31mKeyError\u001b[0m                                  Traceback (most recent call last)",
            "\u001b[0;32m<ipython-input-6-d16ab11d1bdd>\u001b[0m in \u001b[0;36m<module>\u001b[0;34m()\u001b[0m\n\u001b[1;32m      1\u001b[0m \u001b[0mcheckpoint_duration\u001b[0m\u001b[0;34m=\u001b[0m\u001b[0;34m[\u001b[0m\u001b[0;34m]\u001b[0m\u001b[0;34m\u001b[0m\u001b[0;34m\u001b[0m\u001b[0m\n\u001b[1;32m      2\u001b[0m \u001b[0;32mfor\u001b[0m \u001b[0mi\u001b[0m \u001b[0;32min\u001b[0m \u001b[0mrange\u001b[0m\u001b[0;34m(\u001b[0m\u001b[0msubmission_date\u001b[0m\u001b[0;34m.\u001b[0m\u001b[0msize\u001b[0m\u001b[0;34m)\u001b[0m\u001b[0;34m:\u001b[0m\u001b[0;34m\u001b[0m\u001b[0;34m\u001b[0m\u001b[0m\n\u001b[0;32m----> 3\u001b[0;31m    \u001b[0msubmission_date\u001b[0m\u001b[0;34m[\u001b[0m\u001b[0mi\u001b[0m\u001b[0;34m]\u001b[0m\u001b[0;34m=\u001b[0m\u001b[0msubmission_date\u001b[0m\u001b[0;34m[\u001b[0m\u001b[0mi\u001b[0m\u001b[0;34m]\u001b[0m\u001b[0;34m.\u001b[0m\u001b[0msplit\u001b[0m\u001b[0;34m(\u001b[0m\u001b[0;34m'.'\u001b[0m\u001b[0;34m)\u001b[0m\u001b[0;34m\u001b[0m\u001b[0;34m\u001b[0m\u001b[0m\n\u001b[0m\u001b[1;32m      4\u001b[0m    \u001b[0msubmission_date\u001b[0m\u001b[0;34m[\u001b[0m\u001b[0mi\u001b[0m\u001b[0;34m]\u001b[0m\u001b[0;34m=\u001b[0m\u001b[0mstr\u001b[0m\u001b[0;34m(\u001b[0m\u001b[0msubmission_date\u001b[0m\u001b[0;34m[\u001b[0m\u001b[0mi\u001b[0m\u001b[0;34m]\u001b[0m\u001b[0;34m[\u001b[0m\u001b[0;36m0\u001b[0m\u001b[0;34m]\u001b[0m\u001b[0;34m)\u001b[0m\u001b[0;34m.\u001b[0m\u001b[0msplit\u001b[0m\u001b[0;34m(\u001b[0m\u001b[0;34m\"T\"\u001b[0m\u001b[0;34m)\u001b[0m\u001b[0;34m\u001b[0m\u001b[0;34m\u001b[0m\u001b[0m\n\u001b[1;32m      5\u001b[0m    \u001b[0msubmission_date\u001b[0m\u001b[0;34m[\u001b[0m\u001b[0mi\u001b[0m\u001b[0;34m]\u001b[0m \u001b[0;34m=\u001b[0m  \u001b[0mdatetime\u001b[0m\u001b[0;34m.\u001b[0m\u001b[0mstrptime\u001b[0m\u001b[0;34m(\u001b[0m\u001b[0msubmission_date\u001b[0m\u001b[0;34m[\u001b[0m\u001b[0mi\u001b[0m\u001b[0;34m]\u001b[0m\u001b[0;34m[\u001b[0m\u001b[0;36m0\u001b[0m\u001b[0;34m]\u001b[0m\u001b[0;34m+\u001b[0m\u001b[0;34m' '\u001b[0m\u001b[0;34m+\u001b[0m\u001b[0msubmission_date\u001b[0m\u001b[0;34m[\u001b[0m\u001b[0mi\u001b[0m\u001b[0;34m]\u001b[0m\u001b[0;34m[\u001b[0m\u001b[0;36m1\u001b[0m\u001b[0;34m]\u001b[0m\u001b[0;34m,\u001b[0m \u001b[0;34m'%Y-%m-%d %H:%M:%S'\u001b[0m\u001b[0;34m)\u001b[0m\u001b[0;34m\u001b[0m\u001b[0;34m\u001b[0m\u001b[0m\n",
            "\u001b[0;32m/usr/local/lib/python3.6/dist-packages/pandas/core/series.py\u001b[0m in \u001b[0;36m__getitem__\u001b[0;34m(self, key)\u001b[0m\n\u001b[1;32m    869\u001b[0m         \u001b[0mkey\u001b[0m \u001b[0;34m=\u001b[0m \u001b[0mcom\u001b[0m\u001b[0;34m.\u001b[0m\u001b[0mapply_if_callable\u001b[0m\u001b[0;34m(\u001b[0m\u001b[0mkey\u001b[0m\u001b[0;34m,\u001b[0m \u001b[0mself\u001b[0m\u001b[0;34m)\u001b[0m\u001b[0;34m\u001b[0m\u001b[0;34m\u001b[0m\u001b[0m\n\u001b[1;32m    870\u001b[0m         \u001b[0;32mtry\u001b[0m\u001b[0;34m:\u001b[0m\u001b[0;34m\u001b[0m\u001b[0;34m\u001b[0m\u001b[0m\n\u001b[0;32m--> 871\u001b[0;31m             \u001b[0mresult\u001b[0m \u001b[0;34m=\u001b[0m \u001b[0mself\u001b[0m\u001b[0;34m.\u001b[0m\u001b[0mindex\u001b[0m\u001b[0;34m.\u001b[0m\u001b[0mget_value\u001b[0m\u001b[0;34m(\u001b[0m\u001b[0mself\u001b[0m\u001b[0;34m,\u001b[0m \u001b[0mkey\u001b[0m\u001b[0;34m)\u001b[0m\u001b[0;34m\u001b[0m\u001b[0;34m\u001b[0m\u001b[0m\n\u001b[0m\u001b[1;32m    872\u001b[0m \u001b[0;34m\u001b[0m\u001b[0m\n\u001b[1;32m    873\u001b[0m             \u001b[0;32mif\u001b[0m \u001b[0;32mnot\u001b[0m \u001b[0mis_scalar\u001b[0m\u001b[0;34m(\u001b[0m\u001b[0mresult\u001b[0m\u001b[0;34m)\u001b[0m\u001b[0;34m:\u001b[0m\u001b[0;34m\u001b[0m\u001b[0;34m\u001b[0m\u001b[0m\n",
            "\u001b[0;32m/usr/local/lib/python3.6/dist-packages/pandas/core/indexes/base.py\u001b[0m in \u001b[0;36mget_value\u001b[0;34m(self, series, key)\u001b[0m\n\u001b[1;32m   4403\u001b[0m         \u001b[0mk\u001b[0m \u001b[0;34m=\u001b[0m \u001b[0mself\u001b[0m\u001b[0;34m.\u001b[0m\u001b[0m_convert_scalar_indexer\u001b[0m\u001b[0;34m(\u001b[0m\u001b[0mk\u001b[0m\u001b[0;34m,\u001b[0m \u001b[0mkind\u001b[0m\u001b[0;34m=\u001b[0m\u001b[0;34m\"getitem\"\u001b[0m\u001b[0;34m)\u001b[0m\u001b[0;34m\u001b[0m\u001b[0;34m\u001b[0m\u001b[0m\n\u001b[1;32m   4404\u001b[0m         \u001b[0;32mtry\u001b[0m\u001b[0;34m:\u001b[0m\u001b[0;34m\u001b[0m\u001b[0;34m\u001b[0m\u001b[0m\n\u001b[0;32m-> 4405\u001b[0;31m             \u001b[0;32mreturn\u001b[0m \u001b[0mself\u001b[0m\u001b[0;34m.\u001b[0m\u001b[0m_engine\u001b[0m\u001b[0;34m.\u001b[0m\u001b[0mget_value\u001b[0m\u001b[0;34m(\u001b[0m\u001b[0ms\u001b[0m\u001b[0;34m,\u001b[0m \u001b[0mk\u001b[0m\u001b[0;34m,\u001b[0m \u001b[0mtz\u001b[0m\u001b[0;34m=\u001b[0m\u001b[0mgetattr\u001b[0m\u001b[0;34m(\u001b[0m\u001b[0mseries\u001b[0m\u001b[0;34m.\u001b[0m\u001b[0mdtype\u001b[0m\u001b[0;34m,\u001b[0m \u001b[0;34m\"tz\"\u001b[0m\u001b[0;34m,\u001b[0m \u001b[0;32mNone\u001b[0m\u001b[0;34m)\u001b[0m\u001b[0;34m)\u001b[0m\u001b[0;34m\u001b[0m\u001b[0;34m\u001b[0m\u001b[0m\n\u001b[0m\u001b[1;32m   4406\u001b[0m         \u001b[0;32mexcept\u001b[0m \u001b[0mKeyError\u001b[0m \u001b[0;32mas\u001b[0m \u001b[0me1\u001b[0m\u001b[0;34m:\u001b[0m\u001b[0;34m\u001b[0m\u001b[0;34m\u001b[0m\u001b[0m\n\u001b[1;32m   4407\u001b[0m             \u001b[0;32mif\u001b[0m \u001b[0mlen\u001b[0m\u001b[0;34m(\u001b[0m\u001b[0mself\u001b[0m\u001b[0;34m)\u001b[0m \u001b[0;34m>\u001b[0m \u001b[0;36m0\u001b[0m \u001b[0;32mand\u001b[0m \u001b[0;34m(\u001b[0m\u001b[0mself\u001b[0m\u001b[0;34m.\u001b[0m\u001b[0mholds_integer\u001b[0m\u001b[0;34m(\u001b[0m\u001b[0;34m)\u001b[0m \u001b[0;32mor\u001b[0m \u001b[0mself\u001b[0m\u001b[0;34m.\u001b[0m\u001b[0mis_boolean\u001b[0m\u001b[0;34m(\u001b[0m\u001b[0;34m)\u001b[0m\u001b[0;34m)\u001b[0m\u001b[0;34m:\u001b[0m\u001b[0;34m\u001b[0m\u001b[0;34m\u001b[0m\u001b[0m\n",
            "\u001b[0;32mpandas/_libs/index.pyx\u001b[0m in \u001b[0;36mpandas._libs.index.IndexEngine.get_value\u001b[0;34m()\u001b[0m\n",
            "\u001b[0;32mpandas/_libs/index.pyx\u001b[0m in \u001b[0;36mpandas._libs.index.IndexEngine.get_value\u001b[0;34m()\u001b[0m\n",
            "\u001b[0;32mpandas/_libs/index.pyx\u001b[0m in \u001b[0;36mpandas._libs.index.IndexEngine.get_loc\u001b[0;34m()\u001b[0m\n",
            "\u001b[0;32mpandas/_libs/hashtable_class_helper.pxi\u001b[0m in \u001b[0;36mpandas._libs.hashtable.Int64HashTable.get_item\u001b[0;34m()\u001b[0m\n",
            "\u001b[0;32mpandas/_libs/hashtable_class_helper.pxi\u001b[0m in \u001b[0;36mpandas._libs.hashtable.Int64HashTable.get_item\u001b[0;34m()\u001b[0m\n",
            "\u001b[0;31mKeyError\u001b[0m: 0"
          ]
        }
      ]
    },
    {
      "cell_type": "code",
      "metadata": {
        "id": "B8g_uQ3zdktG"
      },
      "source": [
        "scores_durations['checkpoint_duration']=checkpoint_duration"
      ],
      "execution_count": null,
      "outputs": []
    },
    {
      "cell_type": "code",
      "metadata": {
        "id": "P43M_nJQxqdf"
      },
      "source": [
        "print ('a')"
      ],
      "execution_count": null,
      "outputs": []
    },
    {
      "cell_type": "markdown",
      "metadata": {
        "id": "WBmnJkTNk9Wl"
      },
      "source": [
        ""
      ]
    },
    {
      "cell_type": "code",
      "metadata": {
        "id": "oMoGzb-hxc-j"
      },
      "source": [
        "  submission_date-unlock_date"
      ],
      "execution_count": null,
      "outputs": []
    },
    {
      "cell_type": "code",
      "metadata": {
        "id": "O2wcSgS3NW8F"
      },
      "source": [
        "a[0] = a[0][-8:]+' '+a[0][0:10]\n",
        "a[0]=datetime.strptime(a[0], '%H:%M:%S %y-%m-%d')"
      ],
      "execution_count": null,
      "outputs": []
    },
    {
      "cell_type": "code",
      "metadata": {
        "id": "CKCFtuULcy-q"
      },
      "source": [
        "data1['t.name'].value_counts()"
      ],
      "execution_count": null,
      "outputs": []
    },
    {
      "cell_type": "code",
      "metadata": {
        "id": "ip8jE9svxw0X"
      },
      "source": [
        "data1.describe()"
      ],
      "execution_count": null,
      "outputs": []
    },
    {
      "cell_type": "code",
      "metadata": {
        "id": "fX-vnUYRx3M9"
      },
      "source": [
        "data2 = pd.read_csv('cp_time.csv')\n",
        "data2['t.name'].value_counts()"
      ],
      "execution_count": null,
      "outputs": []
    },
    {
      "cell_type": "code",
      "metadata": {
        "id": "Pk1xTkRT8Ko2"
      },
      "source": [
        "data2.describe()"
      ],
      "execution_count": null,
      "outputs": []
    },
    {
      "cell_type": "code",
      "metadata": {
        "id": "o_GZ4Y2k8RNY"
      },
      "source": [
        "import numpy as np\n",
        "data2[data2['t.name']=='Full stack JS'].shape"
      ],
      "execution_count": null,
      "outputs": []
    },
    {
      "cell_type": "code",
      "metadata": {
        "id": "mOMX-6cbCb1G"
      },
      "source": [
        "np.unique(data['t.name'])"
      ],
      "execution_count": null,
      "outputs": []
    },
    {
      "cell_type": "code",
      "metadata": {
        "id": "d1D6qMmLEpi0"
      },
      "source": [
        "data.describe()['(c.score)']"
      ],
      "execution_count": null,
      "outputs": []
    },
    {
      "cell_type": "code",
      "metadata": {
        "id": "Wq2jnFX4HZ4D"
      },
      "source": [
        "data1['t.name'].value_counts()"
      ],
      "execution_count": null,
      "outputs": []
    },
    {
      "cell_type": "code",
      "metadata": {
        "id": "q5U4567inLH3"
      },
      "source": [
        "data1[data1['t.name']=='Become a Full-Stack Web Developer (June 2020)']='Become a full stack developer'"
      ],
      "execution_count": null,
      "outputs": []
    },
    {
      "cell_type": "code",
      "metadata": {
        "id": "o94CM8QJoyWz"
      },
      "source": [
        "data1['t.name']=='Become a Full-Stack Web Developer '"
      ],
      "execution_count": null,
      "outputs": []
    },
    {
      "cell_type": "code",
      "metadata": {
        "id": "urf6pbakpYuU"
      },
      "source": [
        ""
      ],
      "execution_count": null,
      "outputs": []
    },
    {
      "cell_type": "code",
      "metadata": {
        "id": "xQEZ_HnEpb6Z"
      },
      "source": [
        "data1"
      ],
      "execution_count": null,
      "outputs": []
    },
    {
      "cell_type": "code",
      "metadata": {
        "id": "to4mr1O-pouF"
      },
      "source": [
        "import pandas as pd\n",
        "data = pd.read_csv('/content/1to1_skill.csv')"
      ],
      "execution_count": null,
      "outputs": []
    },
    {
      "cell_type": "code",
      "metadata": {
        "id": "upExwNFUrLcx"
      },
      "source": [
        "data"
      ],
      "execution_count": null,
      "outputs": []
    },
    {
      "cell_type": "code",
      "metadata": {
        "id": "uT8UaHSLrQDb"
      },
      "source": [
        "data['t.name'].value_counts()"
      ],
      "execution_count": null,
      "outputs": []
    },
    {
      "cell_type": "code",
      "metadata": {
        "id": "xffFFggsrXHW"
      },
      "source": [
        "data_stack=data[(data['t.name']=='Become a Full-Stack Web Developer (June 2020)') | (data['t.name']=='Become a full stack developer') | (data['t.name']=='Full stack JS')]"
      ],
      "execution_count": null,
      "outputs": []
    },
    {
      "cell_type": "code",
      "metadata": {
        "id": "K2_ojJmOsER_"
      },
      "source": [
        "data_stack['o.answers'].value_counts().sum()"
      ],
      "execution_count": null,
      "outputs": []
    },
    {
      "cell_type": "code",
      "metadata": {
        "id": "2ecIVqJ8sSsV"
      },
      "source": [
        "data_stack.drop(axis=1, columns='t.name',inplace=True)"
      ],
      "execution_count": null,
      "outputs": []
    },
    {
      "cell_type": "code",
      "metadata": {
        "id": "dZxYZhNHssi1"
      },
      "source": [
        "\n",
        "\n",
        "data_stack['s.name'].value_counts()"
      ],
      "execution_count": null,
      "outputs": []
    },
    {
      "cell_type": "code",
      "metadata": {
        "id": "FZW2Xby9sxmA"
      },
      "source": [
        "data_html = data_stack[data_stack['s.name']=='HTML']"
      ],
      "execution_count": null,
      "outputs": []
    },
    {
      "cell_type": "code",
      "metadata": {
        "id": "XiZ2RG_LznP2"
      },
      "source": [
        "data_stack"
      ],
      "execution_count": null,
      "outputs": []
    },
    {
      "cell_type": "code",
      "metadata": {
        "id": "tJy7zse_Qg2J"
      },
      "source": [
        "data = {'question 1': [], 'question 2': [], 'question3': [], 'question4': []\n",
        "\n",
        "\n",
        "\n",
        ", 'question5': ['a', 'b', 'c', 'd'], 'question6': ['a', 'b', 'c', 'd'], 'question7': ['a', 'b', 'c', 'd'], 'question8': ['a', 'b', 'c', 'd'], 'question9': ['a', 'b', 'c', 'd'], 'question10': ['a', 'b', 'c', 'd']}"
      ],
      "execution_count": null,
      "outputs": []
    },
    {
      "cell_type": "code",
      "metadata": {
        "id": "VQs1GnDbzoVg"
      },
      "source": [
        "\n",
        "data_stack_answer=data_stack.iloc[0,2]\n",
        "List=[n.strip() for n in data_stack_answer]\n",
        "for i in List:\n",
        "  if (i.isnumeric()):\n",
        "    \n"
      ],
      "execution_count": null,
      "outputs": []
    },
    {
      "cell_type": "code",
      "metadata": {
        "id": "-pZbhiCyKIfp"
      },
      "source": [
        "print(List)"
      ],
      "execution_count": null,
      "outputs": []
    },
    {
      "cell_type": "code",
      "metadata": {
        "id": "AkUmPhRUPJ9E"
      },
      "source": [
        "import matplotlib.pyplot as plt\n"
      ],
      "execution_count": null,
      "outputs": []
    },
    {
      "cell_type": "code",
      "metadata": {
        "id": "WXxz4v8ApOt1"
      },
      "source": [
        "mean_score=data_stack['o.score'].groupby(data_stack['s.name']).mean()"
      ],
      "execution_count": null,
      "outputs": []
    },
    {
      "cell_type": "code",
      "metadata": {
        "id": "pVMdEG9SqCA-"
      },
      "source": [
        "mean_score.plot.bar()"
      ],
      "execution_count": null,
      "outputs": []
    },
    {
      "cell_type": "code",
      "metadata": {
        "id": "0fVDYOsFq1bz"
      },
      "source": [
        "data_stack_devided = pd.get_dummies(data_stack['s.name'])\n",
        "data_stack_devided = data_stack_devided.join(data_stack['o.score'])\n",
        "data_stack['o.score'].plot.box()"
      ],
      "execution_count": null,
      "outputs": []
    },
    {
      "cell_type": "code",
      "metadata": {
        "id": "Tq6ZgcIkzsoL"
      },
      "source": [
        "Dict = {} \n",
        "from sklearn.preprocessing import StandardScaler\n",
        "scaler = StandardScaler()\n",
        "for i in data_stack['s.name'].value_counts().index:\n",
        "  a=data_stack[data_stack['s.name']==i]\n",
        "  Dict[i]=scaler.fit_transform(a[['o.score']].values)"
      ],
      "execution_count": null,
      "outputs": []
    },
    {
      "cell_type": "code",
      "metadata": {
        "id": "qL3H2Zjp7LQ8"
      },
      "source": [
        "labels, data = Dict.keys(), Dict.values()\n",
        "#plt.xticks(range(1, len(labels) + 1), labels=labels)\n",
        "plt.figure(figsize=(30,15))\n",
        "plt.boxplot(Dict.values(),labels=labels,)"
      ],
      "execution_count": null,
      "outputs": []
    },
    {
      "cell_type": "code",
      "metadata": {
        "id": "dwuulBrNBD6J"
      },
      "source": [
        "scaler.fit_transform(data_stack[['o.score']].values)\n"
      ],
      "execution_count": null,
      "outputs": []
    },
    {
      "cell_type": "code",
      "metadata": {
        "id": "DkllGfHOG5Sj"
      },
      "source": [
        "type(data_stack['o.score'])"
      ],
      "execution_count": null,
      "outputs": []
    },
    {
      "cell_type": "code",
      "metadata": {
        "id": "lTpUOt1tHpiz"
      },
      "source": [
        "data.info()"
      ],
      "execution_count": null,
      "outputs": []
    },
    {
      "cell_type": "markdown",
      "metadata": {
        "id": "90vhn9IqGzLL"
      },
      "source": [
        "to add:\n",
        "super skill\n",
        "\n",
        "time per checkpoint\n",
        "\n",
        "questions_answers\n",
        "\n",
        "dictionnary for skills per superskill\n",
        "\n",
        "modify column names"
      ]
    }
  ]
}