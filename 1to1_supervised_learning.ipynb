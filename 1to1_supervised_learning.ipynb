{
  "nbformat": 4,
  "nbformat_minor": 0,
  "metadata": {
    "colab": {
      "name": "1to1_supervised_learning.ipynb",
      "provenance": []
    },
    "kernelspec": {
      "name": "python3",
      "display_name": "Python 3"
    }
  },
  "cells": [
    {
      "cell_type": "code",
      "metadata": {
        "id": "81oVDYk40X40",
        "colab_type": "code",
        "colab": {}
      },
      "source": [
        "import pandas as pd"
      ],
      "execution_count": 19,
      "outputs": []
    },
    {
      "cell_type": "code",
      "metadata": {
        "id": "tPVZLoRo03me",
        "colab_type": "code",
        "colab": {}
      },
      "source": [
        "skill_superskill=pd.read_csv('/content/skills_superskills_associated_cleaned.csv')\n",
        "onetoone=pd.read_csv('/content/one_to_one_cleaned.csv')"
      ],
      "execution_count": 20,
      "outputs": []
    },
    {
      "cell_type": "code",
      "metadata": {
        "id": "mrkplGrUfjzS",
        "colab_type": "code",
        "colab": {}
      },
      "source": [
        "k=skill_superskill[skill_superskill['super skill']=='supervised-machine-learning' ]"
      ],
      "execution_count": 21,
      "outputs": []
    },
    {
      "cell_type": "code",
      "metadata": {
        "id": "3ZfZsNoJfxaI",
        "colab_type": "code",
        "colab": {
          "base_uri": "https://localhost:8080/",
          "height": 134
        },
        "outputId": "16025b0c-6e99-4291-8b51-51c299410a81"
      },
      "source": [
        "k[skill_superskill['1to1_question_number']==9]"
      ],
      "execution_count": 22,
      "outputs": [
        {
          "output_type": "stream",
          "text": [
            "/usr/local/lib/python3.6/dist-packages/ipykernel_launcher.py:1: UserWarning: Boolean Series key will be reindexed to match DataFrame index.\n",
            "  \"\"\"Entry point for launching an IPython kernel.\n"
          ],
          "name": "stderr"
        },
        {
          "output_type": "execute_result",
          "data": {
            "text/html": [
              "<div>\n",
              "<style scoped>\n",
              "    .dataframe tbody tr th:only-of-type {\n",
              "        vertical-align: middle;\n",
              "    }\n",
              "\n",
              "    .dataframe tbody tr th {\n",
              "        vertical-align: top;\n",
              "    }\n",
              "\n",
              "    .dataframe thead th {\n",
              "        text-align: right;\n",
              "    }\n",
              "</style>\n",
              "<table border=\"1\" class=\"dataframe\">\n",
              "  <thead>\n",
              "    <tr style=\"text-align: right;\">\n",
              "      <th></th>\n",
              "      <th>Unnamed: 0</th>\n",
              "      <th>skill</th>\n",
              "      <th>super skill</th>\n",
              "      <th>1to1_question_number</th>\n",
              "    </tr>\n",
              "  </thead>\n",
              "  <tbody>\n",
              "    <tr>\n",
              "      <th>206</th>\n",
              "      <td>206</td>\n",
              "      <td>Overfitting</td>\n",
              "      <td>supervised-machine-learning</td>\n",
              "      <td>9</td>\n",
              "    </tr>\n",
              "  </tbody>\n",
              "</table>\n",
              "</div>"
            ],
            "text/plain": [
              "     Unnamed: 0        skill                  super skill  1to1_question_number\n",
              "206         206  Overfitting  supervised-machine-learning                     9"
            ]
          },
          "metadata": {
            "tags": []
          },
          "execution_count": 22
        }
      ]
    },
    {
      "cell_type": "code",
      "metadata": {
        "id": "8G-jdPkfYvK9",
        "colab_type": "code",
        "colab": {
          "base_uri": "https://localhost:8080/",
          "height": 102
        },
        "outputId": "79addf31-da8f-4208-ab5e-c0739650e524"
      },
      "source": [
        "skill_question_issus={}\n",
        "onetoone['skill'].value_counts().keys().tolist()"
      ],
      "execution_count": 23,
      "outputs": [
        {
          "output_type": "execute_result",
          "data": {
            "text/plain": [
              "['python',\n",
              " 'data-preprocessing',\n",
              " 'data-visualization',\n",
              " 'supervised-machine-learning',\n",
              " 'unsupervised-machine-learning']"
            ]
          },
          "metadata": {
            "tags": []
          },
          "execution_count": 23
        }
      ]
    },
    {
      "cell_type": "code",
      "metadata": {
        "id": "F3KmTc_Cf0rD",
        "colab_type": "code",
        "colab": {}
      },
      "source": [
        "skill_superskill_supervised_machine_learning=skill_superskill[skill_superskill['super skill']=='supervised-machine-learning']\n",
        "onetoone_supervised_machine_learning=onetoone[onetoone['skill']=='supervised-machine-learning']"
      ],
      "execution_count": 24,
      "outputs": []
    },
    {
      "cell_type": "code",
      "metadata": {
        "id": "7Fz7jxwqg-4z",
        "colab_type": "code",
        "colab": {
          "base_uri": "https://localhost:8080/",
          "height": 853
        },
        "outputId": "716e1a0e-6aa1-4fe5-9af2-39d386e3c41f"
      },
      "source": [
        "!pip install autoplotter"
      ],
      "execution_count": 25,
      "outputs": [
        {
          "output_type": "stream",
          "text": [
            "Requirement already satisfied: autoplotter in /usr/local/lib/python3.6/dist-packages (0.0.2)\n",
            "Requirement already satisfied: dash-html-components in /usr/local/lib/python3.6/dist-packages (from autoplotter) (1.0.3)\n",
            "Requirement already satisfied: pandas in /usr/local/lib/python3.6/dist-packages (from autoplotter) (1.0.5)\n",
            "Requirement already satisfied: dash in /usr/local/lib/python3.6/dist-packages (from autoplotter) (1.14.0)\n",
            "Requirement already satisfied: numpy in /usr/local/lib/python3.6/dist-packages (from autoplotter) (1.18.5)\n",
            "Requirement already satisfied: dash-bootstrap-components in /usr/local/lib/python3.6/dist-packages (from autoplotter) (0.10.3)\n",
            "Requirement already satisfied: dash-core-components in /usr/local/lib/python3.6/dist-packages (from autoplotter) (1.10.2)\n",
            "Requirement already satisfied: ppscore in /usr/local/lib/python3.6/dist-packages (from autoplotter) (1.0.0)\n",
            "Requirement already satisfied: plotly in /usr/local/lib/python3.6/dist-packages (from autoplotter) (4.4.1)\n",
            "Requirement already satisfied: dash-table in /usr/local/lib/python3.6/dist-packages (from autoplotter) (4.9.0)\n",
            "Requirement already satisfied: jupyter-dash in /usr/local/lib/python3.6/dist-packages (from autoplotter) (0.3.1)\n",
            "Requirement already satisfied: pytz>=2017.2 in /usr/local/lib/python3.6/dist-packages (from pandas->autoplotter) (2018.9)\n",
            "Requirement already satisfied: python-dateutil>=2.6.1 in /usr/local/lib/python3.6/dist-packages (from pandas->autoplotter) (2.8.1)\n",
            "Requirement already satisfied: Flask>=1.0.2 in /usr/local/lib/python3.6/dist-packages (from dash->autoplotter) (1.1.2)\n",
            "Requirement already satisfied: dash-renderer==1.6.0 in /usr/local/lib/python3.6/dist-packages (from dash->autoplotter) (1.6.0)\n",
            "Requirement already satisfied: flask-compress in /usr/local/lib/python3.6/dist-packages (from dash->autoplotter) (1.5.0)\n",
            "Requirement already satisfied: future in /usr/local/lib/python3.6/dist-packages (from dash->autoplotter) (0.16.0)\n",
            "Requirement already satisfied: retrying>=1.3.3 in /usr/local/lib/python3.6/dist-packages (from plotly->autoplotter) (1.3.3)\n",
            "Requirement already satisfied: six in /usr/local/lib/python3.6/dist-packages (from plotly->autoplotter) (1.15.0)\n",
            "Requirement already satisfied: ipykernel in /usr/local/lib/python3.6/dist-packages (from jupyter-dash->autoplotter) (4.10.1)\n",
            "Requirement already satisfied: requests in /usr/local/lib/python3.6/dist-packages (from jupyter-dash->autoplotter) (2.23.0)\n",
            "Requirement already satisfied: ipython in /usr/local/lib/python3.6/dist-packages (from jupyter-dash->autoplotter) (5.5.0)\n",
            "Requirement already satisfied: ansi2html in /usr/local/lib/python3.6/dist-packages (from jupyter-dash->autoplotter) (1.5.2)\n",
            "Requirement already satisfied: Werkzeug>=0.15 in /usr/local/lib/python3.6/dist-packages (from Flask>=1.0.2->dash->autoplotter) (1.0.1)\n",
            "Requirement already satisfied: itsdangerous>=0.24 in /usr/local/lib/python3.6/dist-packages (from Flask>=1.0.2->dash->autoplotter) (1.1.0)\n",
            "Requirement already satisfied: click>=5.1 in /usr/local/lib/python3.6/dist-packages (from Flask>=1.0.2->dash->autoplotter) (7.1.2)\n",
            "Requirement already satisfied: Jinja2>=2.10.1 in /usr/local/lib/python3.6/dist-packages (from Flask>=1.0.2->dash->autoplotter) (2.11.2)\n",
            "Requirement already satisfied: brotli in /usr/local/lib/python3.6/dist-packages (from flask-compress->dash->autoplotter) (1.0.7)\n",
            "Requirement already satisfied: jupyter-client in /usr/local/lib/python3.6/dist-packages (from ipykernel->jupyter-dash->autoplotter) (5.3.5)\n",
            "Requirement already satisfied: traitlets>=4.1.0 in /usr/local/lib/python3.6/dist-packages (from ipykernel->jupyter-dash->autoplotter) (4.3.3)\n",
            "Requirement already satisfied: tornado>=4.0 in /usr/local/lib/python3.6/dist-packages (from ipykernel->jupyter-dash->autoplotter) (5.1.1)\n",
            "Requirement already satisfied: certifi>=2017.4.17 in /usr/local/lib/python3.6/dist-packages (from requests->jupyter-dash->autoplotter) (2020.6.20)\n",
            "Requirement already satisfied: chardet<4,>=3.0.2 in /usr/local/lib/python3.6/dist-packages (from requests->jupyter-dash->autoplotter) (3.0.4)\n",
            "Requirement already satisfied: urllib3!=1.25.0,!=1.25.1,<1.26,>=1.21.1 in /usr/local/lib/python3.6/dist-packages (from requests->jupyter-dash->autoplotter) (1.24.3)\n",
            "Requirement already satisfied: idna<3,>=2.5 in /usr/local/lib/python3.6/dist-packages (from requests->jupyter-dash->autoplotter) (2.10)\n",
            "Requirement already satisfied: pexpect; sys_platform != \"win32\" in /usr/local/lib/python3.6/dist-packages (from ipython->jupyter-dash->autoplotter) (4.8.0)\n",
            "Requirement already satisfied: pygments in /usr/local/lib/python3.6/dist-packages (from ipython->jupyter-dash->autoplotter) (2.1.3)\n",
            "Requirement already satisfied: simplegeneric>0.8 in /usr/local/lib/python3.6/dist-packages (from ipython->jupyter-dash->autoplotter) (0.8.1)\n",
            "Requirement already satisfied: setuptools>=18.5 in /usr/local/lib/python3.6/dist-packages (from ipython->jupyter-dash->autoplotter) (49.2.0)\n",
            "Requirement already satisfied: prompt-toolkit<2.0.0,>=1.0.4 in /usr/local/lib/python3.6/dist-packages (from ipython->jupyter-dash->autoplotter) (1.0.18)\n",
            "Requirement already satisfied: pickleshare in /usr/local/lib/python3.6/dist-packages (from ipython->jupyter-dash->autoplotter) (0.7.5)\n",
            "Requirement already satisfied: decorator in /usr/local/lib/python3.6/dist-packages (from ipython->jupyter-dash->autoplotter) (4.4.2)\n",
            "Requirement already satisfied: MarkupSafe>=0.23 in /usr/local/lib/python3.6/dist-packages (from Jinja2>=2.10.1->Flask>=1.0.2->dash->autoplotter) (1.1.1)\n",
            "Requirement already satisfied: jupyter-core>=4.6.0 in /usr/local/lib/python3.6/dist-packages (from jupyter-client->ipykernel->jupyter-dash->autoplotter) (4.6.3)\n",
            "Requirement already satisfied: pyzmq>=13 in /usr/local/lib/python3.6/dist-packages (from jupyter-client->ipykernel->jupyter-dash->autoplotter) (19.0.2)\n",
            "Requirement already satisfied: ipython-genutils in /usr/local/lib/python3.6/dist-packages (from traitlets>=4.1.0->ipykernel->jupyter-dash->autoplotter) (0.2.0)\n",
            "Requirement already satisfied: ptyprocess>=0.5 in /usr/local/lib/python3.6/dist-packages (from pexpect; sys_platform != \"win32\"->ipython->jupyter-dash->autoplotter) (0.6.0)\n",
            "Requirement already satisfied: wcwidth in /usr/local/lib/python3.6/dist-packages (from prompt-toolkit<2.0.0,>=1.0.4->ipython->jupyter-dash->autoplotter) (0.2.5)\n"
          ],
          "name": "stdout"
        }
      ]
    },
    {
      "cell_type": "code",
      "metadata": {
        "id": "mwjIbPQDmD0j",
        "colab_type": "code",
        "colab": {
          "base_uri": "https://localhost:8080/",
          "height": 1000
        },
        "outputId": "c9ea93e5-3747-4738-9965-f13bef685634"
      },
      "source": [
        "onetoone_supervised_machine_learning"
      ],
      "execution_count": 26,
      "outputs": [
        {
          "output_type": "execute_result",
          "data": {
            "text/html": [
              "<div>\n",
              "<style scoped>\n",
              "    .dataframe tbody tr th:only-of-type {\n",
              "        vertical-align: middle;\n",
              "    }\n",
              "\n",
              "    .dataframe tbody tr th {\n",
              "        vertical-align: top;\n",
              "    }\n",
              "\n",
              "    .dataframe thead th {\n",
              "        text-align: right;\n",
              "    }\n",
              "</style>\n",
              "<table border=\"1\" class=\"dataframe\">\n",
              "  <thead>\n",
              "    <tr style=\"text-align: right;\">\n",
              "      <th></th>\n",
              "      <th>student id</th>\n",
              "      <th>skill</th>\n",
              "      <th>score</th>\n",
              "      <th>question 1</th>\n",
              "      <th>question 2</th>\n",
              "      <th>question3</th>\n",
              "      <th>question4</th>\n",
              "      <th>question5</th>\n",
              "      <th>question6</th>\n",
              "      <th>question7</th>\n",
              "      <th>question8</th>\n",
              "      <th>question9</th>\n",
              "      <th>question10</th>\n",
              "    </tr>\n",
              "  </thead>\n",
              "  <tbody>\n",
              "    <tr>\n",
              "      <th>78</th>\n",
              "      <td>1b18ba60-dde0-43aa-aa5c-9a3f8aeb2d8f</td>\n",
              "      <td>supervised-machine-learning</td>\n",
              "      <td>0.60</td>\n",
              "      <td>2</td>\n",
              "      <td>2</td>\n",
              "      <td>0</td>\n",
              "      <td>0</td>\n",
              "      <td>2</td>\n",
              "      <td>2</td>\n",
              "      <td>2</td>\n",
              "      <td>0</td>\n",
              "      <td>0</td>\n",
              "      <td>2</td>\n",
              "    </tr>\n",
              "    <tr>\n",
              "      <th>79</th>\n",
              "      <td>59ac79a9-3002-4c1f-a3fe-480a834a3a86</td>\n",
              "      <td>supervised-machine-learning</td>\n",
              "      <td>0.70</td>\n",
              "      <td>2</td>\n",
              "      <td>0</td>\n",
              "      <td>2</td>\n",
              "      <td>2</td>\n",
              "      <td>2</td>\n",
              "      <td>2</td>\n",
              "      <td>2</td>\n",
              "      <td>0</td>\n",
              "      <td>0</td>\n",
              "      <td>2</td>\n",
              "    </tr>\n",
              "    <tr>\n",
              "      <th>80</th>\n",
              "      <td>479b6213-9157-4fc2-97bb-e2c886c76db9</td>\n",
              "      <td>supervised-machine-learning</td>\n",
              "      <td>0.90</td>\n",
              "      <td>2</td>\n",
              "      <td>2</td>\n",
              "      <td>2</td>\n",
              "      <td>2</td>\n",
              "      <td>2</td>\n",
              "      <td>2</td>\n",
              "      <td>2</td>\n",
              "      <td>0</td>\n",
              "      <td>2</td>\n",
              "      <td>2</td>\n",
              "    </tr>\n",
              "    <tr>\n",
              "      <th>81</th>\n",
              "      <td>a1813c9f-dd05-499c-90d7-508072c456e1</td>\n",
              "      <td>supervised-machine-learning</td>\n",
              "      <td>0.90</td>\n",
              "      <td>2</td>\n",
              "      <td>2</td>\n",
              "      <td>2</td>\n",
              "      <td>2</td>\n",
              "      <td>2</td>\n",
              "      <td>2</td>\n",
              "      <td>2</td>\n",
              "      <td>2</td>\n",
              "      <td>2</td>\n",
              "      <td>0</td>\n",
              "    </tr>\n",
              "    <tr>\n",
              "      <th>82</th>\n",
              "      <td>8e07b0d6-484c-4f07-b0b3-7b35f0d28035</td>\n",
              "      <td>supervised-machine-learning</td>\n",
              "      <td>0.80</td>\n",
              "      <td>2</td>\n",
              "      <td>2</td>\n",
              "      <td>0</td>\n",
              "      <td>2</td>\n",
              "      <td>2</td>\n",
              "      <td>0</td>\n",
              "      <td>2</td>\n",
              "      <td>2</td>\n",
              "      <td>2</td>\n",
              "      <td>2</td>\n",
              "    </tr>\n",
              "    <tr>\n",
              "      <th>83</th>\n",
              "      <td>1f715742-6b1e-4edd-aafa-272ce476462d</td>\n",
              "      <td>supervised-machine-learning</td>\n",
              "      <td>1.00</td>\n",
              "      <td>2</td>\n",
              "      <td>2</td>\n",
              "      <td>2</td>\n",
              "      <td>2</td>\n",
              "      <td>2</td>\n",
              "      <td>2</td>\n",
              "      <td>2</td>\n",
              "      <td>2</td>\n",
              "      <td>2</td>\n",
              "      <td>2</td>\n",
              "    </tr>\n",
              "    <tr>\n",
              "      <th>84</th>\n",
              "      <td>f50a9e3c-5679-4cb4-9310-fa94e03d1aef</td>\n",
              "      <td>supervised-machine-learning</td>\n",
              "      <td>1.00</td>\n",
              "      <td>2</td>\n",
              "      <td>2</td>\n",
              "      <td>2</td>\n",
              "      <td>2</td>\n",
              "      <td>2</td>\n",
              "      <td>2</td>\n",
              "      <td>2</td>\n",
              "      <td>2</td>\n",
              "      <td>2</td>\n",
              "      <td>2</td>\n",
              "    </tr>\n",
              "    <tr>\n",
              "      <th>85</th>\n",
              "      <td>aa54ebd6-e257-4f6a-bdc8-4cb2ca8314d9</td>\n",
              "      <td>supervised-machine-learning</td>\n",
              "      <td>1.00</td>\n",
              "      <td>2</td>\n",
              "      <td>2</td>\n",
              "      <td>2</td>\n",
              "      <td>2</td>\n",
              "      <td>2</td>\n",
              "      <td>2</td>\n",
              "      <td>2</td>\n",
              "      <td>2</td>\n",
              "      <td>2</td>\n",
              "      <td>2</td>\n",
              "    </tr>\n",
              "    <tr>\n",
              "      <th>86</th>\n",
              "      <td>d1185fdf-b810-4bc0-8859-35c453a7ce9c</td>\n",
              "      <td>supervised-machine-learning</td>\n",
              "      <td>1.00</td>\n",
              "      <td>2</td>\n",
              "      <td>2</td>\n",
              "      <td>2</td>\n",
              "      <td>2</td>\n",
              "      <td>2</td>\n",
              "      <td>2</td>\n",
              "      <td>2</td>\n",
              "      <td>2</td>\n",
              "      <td>2</td>\n",
              "      <td>2</td>\n",
              "    </tr>\n",
              "    <tr>\n",
              "      <th>87</th>\n",
              "      <td>a866cb19-0cff-4f23-b917-9b7e4b0b51d6</td>\n",
              "      <td>supervised-machine-learning</td>\n",
              "      <td>1.00</td>\n",
              "      <td>2</td>\n",
              "      <td>2</td>\n",
              "      <td>2</td>\n",
              "      <td>2</td>\n",
              "      <td>2</td>\n",
              "      <td>2</td>\n",
              "      <td>2</td>\n",
              "      <td>2</td>\n",
              "      <td>2</td>\n",
              "      <td>2</td>\n",
              "    </tr>\n",
              "    <tr>\n",
              "      <th>88</th>\n",
              "      <td>75c8dbe9-7ace-4429-b12c-ca86e55aef32</td>\n",
              "      <td>supervised-machine-learning</td>\n",
              "      <td>1.00</td>\n",
              "      <td>2</td>\n",
              "      <td>2</td>\n",
              "      <td>2</td>\n",
              "      <td>2</td>\n",
              "      <td>2</td>\n",
              "      <td>2</td>\n",
              "      <td>2</td>\n",
              "      <td>2</td>\n",
              "      <td>2</td>\n",
              "      <td>2</td>\n",
              "    </tr>\n",
              "    <tr>\n",
              "      <th>89</th>\n",
              "      <td>724429a8-bd0d-4797-a4af-eb427f618ea9</td>\n",
              "      <td>supervised-machine-learning</td>\n",
              "      <td>1.00</td>\n",
              "      <td>2</td>\n",
              "      <td>2</td>\n",
              "      <td>2</td>\n",
              "      <td>2</td>\n",
              "      <td>2</td>\n",
              "      <td>2</td>\n",
              "      <td>2</td>\n",
              "      <td>2</td>\n",
              "      <td>2</td>\n",
              "      <td>2</td>\n",
              "    </tr>\n",
              "    <tr>\n",
              "      <th>90</th>\n",
              "      <td>0e38367f-d2e1-4136-b134-ba012b3a29c9</td>\n",
              "      <td>supervised-machine-learning</td>\n",
              "      <td>0.40</td>\n",
              "      <td>2</td>\n",
              "      <td>0</td>\n",
              "      <td>2</td>\n",
              "      <td>0</td>\n",
              "      <td>2</td>\n",
              "      <td>2</td>\n",
              "      <td>0</td>\n",
              "      <td>0</td>\n",
              "      <td>0</td>\n",
              "      <td>0</td>\n",
              "    </tr>\n",
              "    <tr>\n",
              "      <th>91</th>\n",
              "      <td>f56f7e09-d217-4055-ae95-404fdfe21a00</td>\n",
              "      <td>supervised-machine-learning</td>\n",
              "      <td>0.95</td>\n",
              "      <td>2</td>\n",
              "      <td>2</td>\n",
              "      <td>2</td>\n",
              "      <td>2</td>\n",
              "      <td>2</td>\n",
              "      <td>2</td>\n",
              "      <td>2</td>\n",
              "      <td>1</td>\n",
              "      <td>2</td>\n",
              "      <td>2</td>\n",
              "    </tr>\n",
              "    <tr>\n",
              "      <th>92</th>\n",
              "      <td>a25db003-6903-4e08-b7bc-311faf46a50f</td>\n",
              "      <td>supervised-machine-learning</td>\n",
              "      <td>1.00</td>\n",
              "      <td>2</td>\n",
              "      <td>2</td>\n",
              "      <td>2</td>\n",
              "      <td>2</td>\n",
              "      <td>2</td>\n",
              "      <td>2</td>\n",
              "      <td>2</td>\n",
              "      <td>2</td>\n",
              "      <td>2</td>\n",
              "      <td>2</td>\n",
              "    </tr>\n",
              "    <tr>\n",
              "      <th>93</th>\n",
              "      <td>4a841bc5-029f-40b5-af21-717609609d78</td>\n",
              "      <td>supervised-machine-learning</td>\n",
              "      <td>1.00</td>\n",
              "      <td>2</td>\n",
              "      <td>2</td>\n",
              "      <td>2</td>\n",
              "      <td>2</td>\n",
              "      <td>2</td>\n",
              "      <td>2</td>\n",
              "      <td>2</td>\n",
              "      <td>2</td>\n",
              "      <td>2</td>\n",
              "      <td>2</td>\n",
              "    </tr>\n",
              "    <tr>\n",
              "      <th>94</th>\n",
              "      <td>6ed443eb-8517-4540-8e48-dd461d1afd5d</td>\n",
              "      <td>supervised-machine-learning</td>\n",
              "      <td>0.60</td>\n",
              "      <td>0</td>\n",
              "      <td>2</td>\n",
              "      <td>2</td>\n",
              "      <td>2</td>\n",
              "      <td>2</td>\n",
              "      <td>2</td>\n",
              "      <td>0</td>\n",
              "      <td>0</td>\n",
              "      <td>2</td>\n",
              "      <td>0</td>\n",
              "    </tr>\n",
              "    <tr>\n",
              "      <th>95</th>\n",
              "      <td>90e2c570-acdf-418d-ba5f-5c649a993ddd</td>\n",
              "      <td>supervised-machine-learning</td>\n",
              "      <td>0.95</td>\n",
              "      <td>2</td>\n",
              "      <td>2</td>\n",
              "      <td>2</td>\n",
              "      <td>2</td>\n",
              "      <td>2</td>\n",
              "      <td>2</td>\n",
              "      <td>2</td>\n",
              "      <td>1</td>\n",
              "      <td>2</td>\n",
              "      <td>2</td>\n",
              "    </tr>\n",
              "    <tr>\n",
              "      <th>96</th>\n",
              "      <td>2d23294e-c6c6-41bb-85de-a3702d92bfe1</td>\n",
              "      <td>supervised-machine-learning</td>\n",
              "      <td>0.95</td>\n",
              "      <td>2</td>\n",
              "      <td>2</td>\n",
              "      <td>2</td>\n",
              "      <td>2</td>\n",
              "      <td>2</td>\n",
              "      <td>2</td>\n",
              "      <td>2</td>\n",
              "      <td>1</td>\n",
              "      <td>2</td>\n",
              "      <td>2</td>\n",
              "    </tr>\n",
              "    <tr>\n",
              "      <th>97</th>\n",
              "      <td>5418c688-13e6-4e27-a280-b5113a4d9715</td>\n",
              "      <td>supervised-machine-learning</td>\n",
              "      <td>1.00</td>\n",
              "      <td>2</td>\n",
              "      <td>2</td>\n",
              "      <td>2</td>\n",
              "      <td>2</td>\n",
              "      <td>2</td>\n",
              "      <td>2</td>\n",
              "      <td>2</td>\n",
              "      <td>2</td>\n",
              "      <td>2</td>\n",
              "      <td>2</td>\n",
              "    </tr>\n",
              "    <tr>\n",
              "      <th>98</th>\n",
              "      <td>863cfb1e-d058-4fb3-a525-c3b78a8b8548</td>\n",
              "      <td>supervised-machine-learning</td>\n",
              "      <td>1.00</td>\n",
              "      <td>2</td>\n",
              "      <td>2</td>\n",
              "      <td>2</td>\n",
              "      <td>2</td>\n",
              "      <td>2</td>\n",
              "      <td>2</td>\n",
              "      <td>2</td>\n",
              "      <td>2</td>\n",
              "      <td>2</td>\n",
              "      <td>2</td>\n",
              "    </tr>\n",
              "    <tr>\n",
              "      <th>99</th>\n",
              "      <td>c8d2d11e-77ee-487f-93c0-89f3d874a6d0</td>\n",
              "      <td>supervised-machine-learning</td>\n",
              "      <td>1.00</td>\n",
              "      <td>2</td>\n",
              "      <td>2</td>\n",
              "      <td>2</td>\n",
              "      <td>2</td>\n",
              "      <td>2</td>\n",
              "      <td>2</td>\n",
              "      <td>2</td>\n",
              "      <td>2</td>\n",
              "      <td>2</td>\n",
              "      <td>2</td>\n",
              "    </tr>\n",
              "    <tr>\n",
              "      <th>100</th>\n",
              "      <td>171832de-cbf6-415c-bef5-5206a463a5c9</td>\n",
              "      <td>supervised-machine-learning</td>\n",
              "      <td>1.00</td>\n",
              "      <td>2</td>\n",
              "      <td>2</td>\n",
              "      <td>2</td>\n",
              "      <td>2</td>\n",
              "      <td>2</td>\n",
              "      <td>2</td>\n",
              "      <td>2</td>\n",
              "      <td>2</td>\n",
              "      <td>2</td>\n",
              "      <td>2</td>\n",
              "    </tr>\n",
              "    <tr>\n",
              "      <th>101</th>\n",
              "      <td>e622e8c0-447c-49e1-8cc8-e7db0ee304db</td>\n",
              "      <td>supervised-machine-learning</td>\n",
              "      <td>0.70</td>\n",
              "      <td>2</td>\n",
              "      <td>2</td>\n",
              "      <td>2</td>\n",
              "      <td>2</td>\n",
              "      <td>2</td>\n",
              "      <td>2</td>\n",
              "      <td>0</td>\n",
              "      <td>0</td>\n",
              "      <td>2</td>\n",
              "      <td>0</td>\n",
              "    </tr>\n",
              "    <tr>\n",
              "      <th>102</th>\n",
              "      <td>3a21c413-2c1f-421c-a636-d534d88f4f79</td>\n",
              "      <td>supervised-machine-learning</td>\n",
              "      <td>0.70</td>\n",
              "      <td>2</td>\n",
              "      <td>2</td>\n",
              "      <td>2</td>\n",
              "      <td>2</td>\n",
              "      <td>2</td>\n",
              "      <td>2</td>\n",
              "      <td>0</td>\n",
              "      <td>0</td>\n",
              "      <td>2</td>\n",
              "      <td>0</td>\n",
              "    </tr>\n",
              "    <tr>\n",
              "      <th>103</th>\n",
              "      <td>952f82ac-6c8a-450d-b6b5-c3b21e560827</td>\n",
              "      <td>supervised-machine-learning</td>\n",
              "      <td>0.85</td>\n",
              "      <td>1</td>\n",
              "      <td>2</td>\n",
              "      <td>2</td>\n",
              "      <td>2</td>\n",
              "      <td>2</td>\n",
              "      <td>2</td>\n",
              "      <td>2</td>\n",
              "      <td>2</td>\n",
              "      <td>2</td>\n",
              "      <td>0</td>\n",
              "    </tr>\n",
              "    <tr>\n",
              "      <th>104</th>\n",
              "      <td>4a478929-bb14-4e50-b3f3-bb60ee0f0b0a</td>\n",
              "      <td>supervised-machine-learning</td>\n",
              "      <td>1.00</td>\n",
              "      <td>2</td>\n",
              "      <td>2</td>\n",
              "      <td>2</td>\n",
              "      <td>2</td>\n",
              "      <td>2</td>\n",
              "      <td>2</td>\n",
              "      <td>2</td>\n",
              "      <td>2</td>\n",
              "      <td>2</td>\n",
              "      <td>2</td>\n",
              "    </tr>\n",
              "    <tr>\n",
              "      <th>105</th>\n",
              "      <td>e8354e41-7502-413c-b298-24511007a4ef</td>\n",
              "      <td>supervised-machine-learning</td>\n",
              "      <td>0.90</td>\n",
              "      <td>2</td>\n",
              "      <td>2</td>\n",
              "      <td>2</td>\n",
              "      <td>2</td>\n",
              "      <td>2</td>\n",
              "      <td>2</td>\n",
              "      <td>2</td>\n",
              "      <td>0</td>\n",
              "      <td>2</td>\n",
              "      <td>2</td>\n",
              "    </tr>\n",
              "    <tr>\n",
              "      <th>106</th>\n",
              "      <td>dad1dd4a-ca2a-452a-bb1f-825c695cfb36</td>\n",
              "      <td>supervised-machine-learning</td>\n",
              "      <td>0.90</td>\n",
              "      <td>2</td>\n",
              "      <td>2</td>\n",
              "      <td>2</td>\n",
              "      <td>2</td>\n",
              "      <td>2</td>\n",
              "      <td>2</td>\n",
              "      <td>2</td>\n",
              "      <td>0</td>\n",
              "      <td>2</td>\n",
              "      <td>2</td>\n",
              "    </tr>\n",
              "    <tr>\n",
              "      <th>107</th>\n",
              "      <td>e95d0cac-062d-4c25-9d4d-975ec72eee3a</td>\n",
              "      <td>supervised-machine-learning</td>\n",
              "      <td>0.85</td>\n",
              "      <td>2</td>\n",
              "      <td>2</td>\n",
              "      <td>2</td>\n",
              "      <td>2</td>\n",
              "      <td>2</td>\n",
              "      <td>2</td>\n",
              "      <td>2</td>\n",
              "      <td>2</td>\n",
              "      <td>1</td>\n",
              "      <td>0</td>\n",
              "    </tr>\n",
              "  </tbody>\n",
              "</table>\n",
              "</div>"
            ],
            "text/plain": [
              "                               student id  ... question10\n",
              "78   1b18ba60-dde0-43aa-aa5c-9a3f8aeb2d8f  ...          2\n",
              "79   59ac79a9-3002-4c1f-a3fe-480a834a3a86  ...          2\n",
              "80   479b6213-9157-4fc2-97bb-e2c886c76db9  ...          2\n",
              "81   a1813c9f-dd05-499c-90d7-508072c456e1  ...          0\n",
              "82   8e07b0d6-484c-4f07-b0b3-7b35f0d28035  ...          2\n",
              "83   1f715742-6b1e-4edd-aafa-272ce476462d  ...          2\n",
              "84   f50a9e3c-5679-4cb4-9310-fa94e03d1aef  ...          2\n",
              "85   aa54ebd6-e257-4f6a-bdc8-4cb2ca8314d9  ...          2\n",
              "86   d1185fdf-b810-4bc0-8859-35c453a7ce9c  ...          2\n",
              "87   a866cb19-0cff-4f23-b917-9b7e4b0b51d6  ...          2\n",
              "88   75c8dbe9-7ace-4429-b12c-ca86e55aef32  ...          2\n",
              "89   724429a8-bd0d-4797-a4af-eb427f618ea9  ...          2\n",
              "90   0e38367f-d2e1-4136-b134-ba012b3a29c9  ...          0\n",
              "91   f56f7e09-d217-4055-ae95-404fdfe21a00  ...          2\n",
              "92   a25db003-6903-4e08-b7bc-311faf46a50f  ...          2\n",
              "93   4a841bc5-029f-40b5-af21-717609609d78  ...          2\n",
              "94   6ed443eb-8517-4540-8e48-dd461d1afd5d  ...          0\n",
              "95   90e2c570-acdf-418d-ba5f-5c649a993ddd  ...          2\n",
              "96   2d23294e-c6c6-41bb-85de-a3702d92bfe1  ...          2\n",
              "97   5418c688-13e6-4e27-a280-b5113a4d9715  ...          2\n",
              "98   863cfb1e-d058-4fb3-a525-c3b78a8b8548  ...          2\n",
              "99   c8d2d11e-77ee-487f-93c0-89f3d874a6d0  ...          2\n",
              "100  171832de-cbf6-415c-bef5-5206a463a5c9  ...          2\n",
              "101  e622e8c0-447c-49e1-8cc8-e7db0ee304db  ...          0\n",
              "102  3a21c413-2c1f-421c-a636-d534d88f4f79  ...          0\n",
              "103  952f82ac-6c8a-450d-b6b5-c3b21e560827  ...          0\n",
              "104  4a478929-bb14-4e50-b3f3-bb60ee0f0b0a  ...          2\n",
              "105  e8354e41-7502-413c-b298-24511007a4ef  ...          2\n",
              "106  dad1dd4a-ca2a-452a-bb1f-825c695cfb36  ...          2\n",
              "107  e95d0cac-062d-4c25-9d4d-975ec72eee3a  ...          0\n",
              "\n",
              "[30 rows x 13 columns]"
            ]
          },
          "metadata": {
            "tags": []
          },
          "execution_count": 26
        }
      ]
    },
    {
      "cell_type": "code",
      "metadata": {
        "id": "icZdgMKihQr_",
        "colab_type": "code",
        "colab": {
          "base_uri": "https://localhost:8080/",
          "height": 269
        },
        "outputId": "2a8cd4ed-173c-4260-f377-8fd3d3fb31fe"
      },
      "source": [
        "import seaborn as sns\n",
        "sns.boxplot( y=onetoone_supervised_machine_learning['score'] )"
      ],
      "execution_count": 27,
      "outputs": [
        {
          "output_type": "execute_result",
          "data": {
            "text/plain": [
              "<matplotlib.axes._subplots.AxesSubplot at 0x7f8273088198>"
            ]
          },
          "metadata": {
            "tags": []
          },
          "execution_count": 27
        },
        {
          "output_type": "display_data",
          "data": {
            "image/png": "[encoded data removed]",
            "text/plain": [
              "<Figure size 432x288 with 1 Axes>"
            ]
          },
          "metadata": {
            "tags": [],
            "needs_background": "light"
          }
        }
      ]
    },
    {
      "cell_type": "markdown",
      "metadata": {
        "id": "LR2G_573F1P4",
        "colab_type": "text"
      },
      "source": [
        "the scores are between 40% and 100% the median of scores taken  is 80%\n",
        "\n",
        "1.   List item\n",
        "2.   List item\n",
        "\n"
      ]
    },
    {
      "cell_type": "code",
      "metadata": {
        "id": "mZlzs5u4lKCI",
        "colab_type": "code",
        "colab": {
          "base_uri": "https://localhost:8080/",
          "height": 500
        },
        "outputId": "d463d942-8eba-40df-c501-e16e3d2521c7"
      },
      "source": [
        "import matplotlib.pyplot as plt \n",
        "questions1=onetoone_supervised_machine_learning.drop(['student id', 'skill','score'], axis=1)\n",
        "questions=onetoone_supervised_machine_learning.drop(['student id', 'skill','score'], axis=1).sum()\n",
        "questions.plot(kind='pie', subplots=True, figsize=(16,8))"
      ],
      "execution_count": 28,
      "outputs": [
        {
          "output_type": "execute_result",
          "data": {
            "text/plain": [
              "array([<matplotlib.axes._subplots.AxesSubplot object at 0x7f82730d6e80>],\n",
              "      dtype=object)"
            ]
          },
          "metadata": {
            "tags": []
          },
          "execution_count": 28
        },
        {
          "output_type": "display_data",
          "data": {
            "image/png": "[encoded data removed]",
            "text/plain": [
              "<Figure size 1152x576 with 1 Axes>"
            ]
          },
          "metadata": {
            "tags": []
          }
        }
      ]
    },
    {
      "cell_type": "code",
      "metadata": {
        "id": "SqS7y1Sl34hO",
        "colab_type": "code",
        "colab": {}
      },
      "source": [
        "List_0=pd.melt(questions1).groupby([\"value\",\"variable\"])['variable'].count()[0].sort_values(ascending =False).head(3).keys().tolist()"
      ],
      "execution_count": 29,
      "outputs": []
    },
    {
      "cell_type": "code",
      "metadata": {
        "id": "qSTvOVryYYQ2",
        "colab_type": "code",
        "colab": {
          "base_uri": "https://localhost:8080/",
          "height": 68
        },
        "outputId": "ca5b16d8-5492-4641-997e-b329f47bcb95"
      },
      "source": [
        "for x in List_0:\n",
        "  print(x)\n",
        "  "
      ],
      "execution_count": 30,
      "outputs": [
        {
          "output_type": "stream",
          "text": [
            "question8\n",
            "question10\n",
            "question7\n"
          ],
          "name": "stdout"
        }
      ]
    },
    {
      "cell_type": "markdown",
      "metadata": {
        "id": "flcoDHdm5Snt",
        "colab_type": "text"
      },
      "source": [
        "question 8,question7 and question10 are the most questions with low understanding scores"
      ]
    },
    {
      "cell_type": "code",
      "metadata": {
        "id": "B16bXdth47tB",
        "colab_type": "code",
        "colab": {}
      },
      "source": [
        "questions1=onetoone_supervised_machine_learning.drop(['student id', 'skill','score'], axis=1)\n",
        "mean=onetoone_supervised_machine_learning.drop(['student id', 'skill','score'], axis=1).mean()"
      ],
      "execution_count": 31,
      "outputs": []
    },
    {
      "cell_type": "code",
      "metadata": {
        "id": "Sgo6SuxU8mEL",
        "colab_type": "code",
        "colab": {
          "base_uri": "https://localhost:8080/",
          "height": 514
        },
        "outputId": "b81475d0-1f0b-4133-8b32-3af90a1145f6"
      },
      "source": [
        "plt.figure(figsize=(8,8))\n",
        "sns.countplot(x='value', hue='variable',data=pd.melt(questions1))"
      ],
      "execution_count": 32,
      "outputs": [
        {
          "output_type": "execute_result",
          "data": {
            "text/plain": [
              "<matplotlib.axes._subplots.AxesSubplot at 0x7f82730eca58>"
            ]
          },
          "metadata": {
            "tags": []
          },
          "execution_count": 32
        },
        {
          "output_type": "display_data",
          "data": {
            "image/png": "[encoded data removed]",
            "text/plain": [
              "<Figure size 576x576 with 1 Axes>"
            ]
          },
          "metadata": {
            "tags": [],
            "needs_background": "light"
          }
        }
      ]
    },
    {
      "cell_type": "markdown",
      "metadata": {
        "id": "aSekarlQox7r",
        "colab_type": "text"
      },
      "source": [
        "as we see here that the most difficult question are question:8,10,7"
      ]
    },
    {
      "cell_type": "code",
      "metadata": {
        "id": "BpXDi7LHzk0e",
        "colab_type": "code",
        "colab": {
          "base_uri": "https://localhost:8080/",
          "height": 255
        },
        "outputId": "d20e08a2-f3fe-427b-bc7d-03a0842a4397"
      },
      "source": [
        "supervised_machine_learning_variable_value=pd.melt(questions1)\n",
        "print (supervised_machine_learning_variable_value)"
      ],
      "execution_count": 37,
      "outputs": [
        {
          "output_type": "stream",
          "text": [
            "       variable  value\n",
            "0    question 1      2\n",
            "1    question 1      2\n",
            "2    question 1      2\n",
            "3    question 1      2\n",
            "4    question 1      2\n",
            "..          ...    ...\n",
            "295  question10      0\n",
            "296  question10      2\n",
            "297  question10      2\n",
            "298  question10      2\n",
            "299  question10      0\n",
            "\n",
            "[300 rows x 2 columns]\n"
          ],
          "name": "stdout"
        }
      ]
    },
    {
      "cell_type": "code",
      "metadata": {
        "id": "UfacUn4lvaO7",
        "colab_type": "code",
        "colab": {
          "base_uri": "https://localhost:8080/",
          "height": 68
        },
        "outputId": "5a12a41f-a3ed-4adb-8968-4099646019c2"
      },
      "source": [
        "q=[8,10,7]\n",
        "for Q in q:\n",
        "  print(k[k['1to1_question_number']==Q]['skill'].values)"
      ],
      "execution_count": 38,
      "outputs": [
        {
          "output_type": "stream",
          "text": [
            "['k-fold-def']\n",
            "['Pruning']\n",
            "['Random  Forest']\n"
          ],
          "name": "stdout"
        }
      ]
    },
    {
      "cell_type": "code",
      "metadata": {
        "id": "RpZfjCnQF21D",
        "colab_type": "code",
        "colab": {}
      },
      "source": [
        ""
      ],
      "execution_count": 17,
      "outputs": []
    }
  ]
}