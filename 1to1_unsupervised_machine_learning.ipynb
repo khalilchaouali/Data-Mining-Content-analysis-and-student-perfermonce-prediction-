{
  "nbformat": 4,
  "nbformat_minor": 0,
  "metadata": {
    "colab": {
      "name": "1to1_unsupervised-machine-learning.ipynb",
      "provenance": []
    },
    "kernelspec": {
      "name": "python3",
      "display_name": "Python 3"
    }
  },
  "cells": [
    {
      "cell_type": "code",
      "metadata": {
        "id": "81oVDYk40X40",
        "colab_type": "code",
        "colab": {}
      },
      "source": [
        "import pandas as pd"
      ],
      "execution_count": null,
      "outputs": []
    },
    {
      "cell_type": "code",
      "metadata": {
        "id": "tPVZLoRo03me",
        "colab_type": "code",
        "colab": {}
      },
      "source": [
        "skill_superskill=pd.read_csv('/content/skills_superskills_associated_cleaned.csv')\n",
        "onetoone=pd.read_csv('/content/one_to_one_cleaned.csv')"
      ],
      "execution_count": null,
      "outputs": []
    },
    {
      "cell_type": "code",
      "metadata": {
        "id": "mrkplGrUfjzS",
        "colab_type": "code",
        "colab": {}
      },
      "source": [
        "k=skill_superskill[skill_superskill['super skill']=='unsupervised-machine-learning' ]"
      ],
      "execution_count": null,
      "outputs": []
    },
    {
      "cell_type": "code",
      "metadata": {
        "id": "3ZfZsNoJfxaI",
        "colab_type": "code",
        "colab": {
          "base_uri": "https://localhost:8080/",
          "height": 134
        },
        "outputId": "0d44ccab-d066-4ae5-8cad-d82e16d499bd"
      },
      "source": [
        "k[skill_superskill['1to1_question_number']==9]"
      ],
      "execution_count": null,
      "outputs": [
        {
          "output_type": "stream",
          "text": [
            "/usr/local/lib/python3.6/dist-packages/ipykernel_launcher.py:1: UserWarning: Boolean Series key will be reindexed to match DataFrame index.\n",
            "  \"\"\"Entry point for launching an IPython kernel.\n"
          ],
          "name": "stderr"
        },
        {
          "output_type": "execute_result",
          "data": {
            "text/html": [
              "<div>\n",
              "<style scoped>\n",
              "    .dataframe tbody tr th:only-of-type {\n",
              "        vertical-align: middle;\n",
              "    }\n",
              "\n",
              "    .dataframe tbody tr th {\n",
              "        vertical-align: top;\n",
              "    }\n",
              "\n",
              "    .dataframe thead th {\n",
              "        text-align: right;\n",
              "    }\n",
              "</style>\n",
              "<table border=\"1\" class=\"dataframe\">\n",
              "  <thead>\n",
              "    <tr style=\"text-align: right;\">\n",
              "      <th></th>\n",
              "      <th>Unnamed: 0</th>\n",
              "      <th>skill</th>\n",
              "      <th>super skill</th>\n",
              "      <th>1to1_question_number</th>\n",
              "    </tr>\n",
              "  </thead>\n",
              "  <tbody>\n",
              "    <tr>\n",
              "      <th>287</th>\n",
              "      <td>287</td>\n",
              "      <td>Lift interpretation</td>\n",
              "      <td>unsupervised-machine-learning</td>\n",
              "      <td>9</td>\n",
              "    </tr>\n",
              "  </tbody>\n",
              "</table>\n",
              "</div>"
            ],
            "text/plain": [
              "     Unnamed: 0  ... 1to1_question_number\n",
              "287         287  ...                    9\n",
              "\n",
              "[1 rows x 4 columns]"
            ]
          },
          "metadata": {
            "tags": []
          },
          "execution_count": 4
        }
      ]
    },
    {
      "cell_type": "code",
      "metadata": {
        "id": "8G-jdPkfYvK9",
        "colab_type": "code",
        "colab": {
          "base_uri": "https://localhost:8080/",
          "height": 102
        },
        "outputId": "595a52f0-8463-4aea-a007-f3198d8ad55f"
      },
      "source": [
        "skill_question_issus={}\n",
        "onetoone['skill'].value_counts().keys().tolist()"
      ],
      "execution_count": null,
      "outputs": [
        {
          "output_type": "execute_result",
          "data": {
            "text/plain": [
              "['python',\n",
              " 'data-preprocessing',\n",
              " 'data-visualization',\n",
              " 'supervised-machine-learning',\n",
              " 'unsupervised-machine-learning']"
            ]
          },
          "metadata": {
            "tags": []
          },
          "execution_count": 5
        }
      ]
    },
    {
      "cell_type": "code",
      "metadata": {
        "id": "F3KmTc_Cf0rD",
        "colab_type": "code",
        "colab": {}
      },
      "source": [
        "skill_superskill_unsupervised_machine_learning=skill_superskill[skill_superskill['super skill']=='unsupervised-machine-learning']\n",
        "onetoone_unsupervised_machine_learning=onetoone[onetoone['skill']=='unsupervised-machine-learning']"
      ],
      "execution_count": null,
      "outputs": []
    },
    {
      "cell_type": "code",
      "metadata": {
        "id": "7Fz7jxwqg-4z",
        "colab_type": "code",
        "colab": {}
      },
      "source": [
        "!pip install autoplotter"
      ],
      "execution_count": null,
      "outputs": []
    },
    {
      "cell_type": "code",
      "metadata": {
        "id": "mwjIbPQDmD0j",
        "colab_type": "code",
        "colab": {
          "base_uri": "https://localhost:8080/",
          "height": 889
        },
        "outputId": "43576eeb-c17c-4886-c302-e532db996731"
      },
      "source": [
        "onetoone_unsupervised_machine_learning"
      ],
      "execution_count": null,
      "outputs": [
        {
          "output_type": "execute_result",
          "data": {
            "text/html": [
              "<div>\n",
              "<style scoped>\n",
              "    .dataframe tbody tr th:only-of-type {\n",
              "        vertical-align: middle;\n",
              "    }\n",
              "\n",
              "    .dataframe tbody tr th {\n",
              "        vertical-align: top;\n",
              "    }\n",
              "\n",
              "    .dataframe thead th {\n",
              "        text-align: right;\n",
              "    }\n",
              "</style>\n",
              "<table border=\"1\" class=\"dataframe\">\n",
              "  <thead>\n",
              "    <tr style=\"text-align: right;\">\n",
              "      <th></th>\n",
              "      <th>student id</th>\n",
              "      <th>skill</th>\n",
              "      <th>score</th>\n",
              "      <th>question 1</th>\n",
              "      <th>question 2</th>\n",
              "      <th>question3</th>\n",
              "      <th>question4</th>\n",
              "      <th>question5</th>\n",
              "      <th>question6</th>\n",
              "      <th>question7</th>\n",
              "      <th>question8</th>\n",
              "      <th>question9</th>\n",
              "      <th>question10</th>\n",
              "    </tr>\n",
              "  </thead>\n",
              "  <tbody>\n",
              "    <tr>\n",
              "      <th>0</th>\n",
              "      <td>479b6213-9157-4fc2-97bb-e2c886c76db9</td>\n",
              "      <td>unsupervised-machine-learning</td>\n",
              "      <td>0.9</td>\n",
              "      <td>2</td>\n",
              "      <td>2</td>\n",
              "      <td>2</td>\n",
              "      <td>2</td>\n",
              "      <td>0</td>\n",
              "      <td>2</td>\n",
              "      <td>2</td>\n",
              "      <td>2</td>\n",
              "      <td>2</td>\n",
              "      <td>2</td>\n",
              "    </tr>\n",
              "    <tr>\n",
              "      <th>1</th>\n",
              "      <td>f50a9e3c-5679-4cb4-9310-fa94e03d1aef</td>\n",
              "      <td>unsupervised-machine-learning</td>\n",
              "      <td>0.9</td>\n",
              "      <td>2</td>\n",
              "      <td>2</td>\n",
              "      <td>2</td>\n",
              "      <td>2</td>\n",
              "      <td>2</td>\n",
              "      <td>2</td>\n",
              "      <td>2</td>\n",
              "      <td>2</td>\n",
              "      <td>0</td>\n",
              "      <td>2</td>\n",
              "    </tr>\n",
              "    <tr>\n",
              "      <th>2</th>\n",
              "      <td>1f715742-6b1e-4edd-aafa-272ce476462d</td>\n",
              "      <td>unsupervised-machine-learning</td>\n",
              "      <td>1.0</td>\n",
              "      <td>2</td>\n",
              "      <td>2</td>\n",
              "      <td>2</td>\n",
              "      <td>2</td>\n",
              "      <td>2</td>\n",
              "      <td>2</td>\n",
              "      <td>2</td>\n",
              "      <td>2</td>\n",
              "      <td>2</td>\n",
              "      <td>2</td>\n",
              "    </tr>\n",
              "    <tr>\n",
              "      <th>3</th>\n",
              "      <td>aa54ebd6-e257-4f6a-bdc8-4cb2ca8314d9</td>\n",
              "      <td>unsupervised-machine-learning</td>\n",
              "      <td>1.0</td>\n",
              "      <td>2</td>\n",
              "      <td>2</td>\n",
              "      <td>2</td>\n",
              "      <td>2</td>\n",
              "      <td>2</td>\n",
              "      <td>2</td>\n",
              "      <td>2</td>\n",
              "      <td>2</td>\n",
              "      <td>2</td>\n",
              "      <td>2</td>\n",
              "    </tr>\n",
              "    <tr>\n",
              "      <th>4</th>\n",
              "      <td>a866cb19-0cff-4f23-b917-9b7e4b0b51d6</td>\n",
              "      <td>unsupervised-machine-learning</td>\n",
              "      <td>0.8</td>\n",
              "      <td>2</td>\n",
              "      <td>2</td>\n",
              "      <td>0</td>\n",
              "      <td>2</td>\n",
              "      <td>2</td>\n",
              "      <td>2</td>\n",
              "      <td>2</td>\n",
              "      <td>0</td>\n",
              "      <td>2</td>\n",
              "      <td>2</td>\n",
              "    </tr>\n",
              "    <tr>\n",
              "      <th>5</th>\n",
              "      <td>75c8dbe9-7ace-4429-b12c-ca86e55aef32</td>\n",
              "      <td>unsupervised-machine-learning</td>\n",
              "      <td>1.0</td>\n",
              "      <td>2</td>\n",
              "      <td>2</td>\n",
              "      <td>2</td>\n",
              "      <td>2</td>\n",
              "      <td>2</td>\n",
              "      <td>2</td>\n",
              "      <td>2</td>\n",
              "      <td>2</td>\n",
              "      <td>2</td>\n",
              "      <td>2</td>\n",
              "    </tr>\n",
              "    <tr>\n",
              "      <th>6</th>\n",
              "      <td>724429a8-bd0d-4797-a4af-eb427f618ea9</td>\n",
              "      <td>unsupervised-machine-learning</td>\n",
              "      <td>1.0</td>\n",
              "      <td>2</td>\n",
              "      <td>2</td>\n",
              "      <td>2</td>\n",
              "      <td>2</td>\n",
              "      <td>2</td>\n",
              "      <td>2</td>\n",
              "      <td>2</td>\n",
              "      <td>2</td>\n",
              "      <td>2</td>\n",
              "      <td>2</td>\n",
              "    </tr>\n",
              "    <tr>\n",
              "      <th>7</th>\n",
              "      <td>952f82ac-6c8a-450d-b6b5-c3b21e560827</td>\n",
              "      <td>unsupervised-machine-learning</td>\n",
              "      <td>1.0</td>\n",
              "      <td>2</td>\n",
              "      <td>2</td>\n",
              "      <td>2</td>\n",
              "      <td>2</td>\n",
              "      <td>2</td>\n",
              "      <td>2</td>\n",
              "      <td>2</td>\n",
              "      <td>2</td>\n",
              "      <td>2</td>\n",
              "      <td>2</td>\n",
              "    </tr>\n",
              "    <tr>\n",
              "      <th>8</th>\n",
              "      <td>863cfb1e-d058-4fb3-a525-c3b78a8b8548</td>\n",
              "      <td>unsupervised-machine-learning</td>\n",
              "      <td>0.9</td>\n",
              "      <td>2</td>\n",
              "      <td>2</td>\n",
              "      <td>2</td>\n",
              "      <td>2</td>\n",
              "      <td>2</td>\n",
              "      <td>2</td>\n",
              "      <td>2</td>\n",
              "      <td>2</td>\n",
              "      <td>2</td>\n",
              "      <td>0</td>\n",
              "    </tr>\n",
              "    <tr>\n",
              "      <th>9</th>\n",
              "      <td>5418c688-13e6-4e27-a280-b5113a4d9715</td>\n",
              "      <td>unsupervised-machine-learning</td>\n",
              "      <td>1.0</td>\n",
              "      <td>2</td>\n",
              "      <td>2</td>\n",
              "      <td>2</td>\n",
              "      <td>2</td>\n",
              "      <td>2</td>\n",
              "      <td>2</td>\n",
              "      <td>2</td>\n",
              "      <td>2</td>\n",
              "      <td>2</td>\n",
              "      <td>2</td>\n",
              "    </tr>\n",
              "  </tbody>\n",
              "</table>\n",
              "</div>"
            ],
            "text/plain": [
              "                             student id  ... question10\n",
              "0  479b6213-9157-4fc2-97bb-e2c886c76db9  ...          2\n",
              "1  f50a9e3c-5679-4cb4-9310-fa94e03d1aef  ...          2\n",
              "2  1f715742-6b1e-4edd-aafa-272ce476462d  ...          2\n",
              "3  aa54ebd6-e257-4f6a-bdc8-4cb2ca8314d9  ...          2\n",
              "4  a866cb19-0cff-4f23-b917-9b7e4b0b51d6  ...          2\n",
              "5  75c8dbe9-7ace-4429-b12c-ca86e55aef32  ...          2\n",
              "6  724429a8-bd0d-4797-a4af-eb427f618ea9  ...          2\n",
              "7  952f82ac-6c8a-450d-b6b5-c3b21e560827  ...          2\n",
              "8  863cfb1e-d058-4fb3-a525-c3b78a8b8548  ...          0\n",
              "9  5418c688-13e6-4e27-a280-b5113a4d9715  ...          2\n",
              "\n",
              "[10 rows x 13 columns]"
            ]
          },
          "metadata": {
            "tags": []
          },
          "execution_count": 9
        }
      ]
    },
    {
      "cell_type": "code",
      "metadata": {
        "id": "icZdgMKihQr_",
        "colab_type": "code",
        "colab": {
          "base_uri": "https://localhost:8080/",
          "height": 323
        },
        "outputId": "820ffff1-3961-4d65-b802-f8a14d851ba0"
      },
      "source": [
        "import seaborn as sns\n",
        "sns.boxplot( y=onetoone_unsupervised_machine_learning['score'] )"
      ],
      "execution_count": null,
      "outputs": [
        {
          "output_type": "stream",
          "text": [
            "/usr/local/lib/python3.6/dist-packages/statsmodels/tools/_testing.py:19: FutureWarning: pandas.util.testing is deprecated. Use the functions in the public API at pandas.testing instead.\n",
            "  import pandas.util.testing as tm\n"
          ],
          "name": "stderr"
        },
        {
          "output_type": "execute_result",
          "data": {
            "text/plain": [
              "<matplotlib.axes._subplots.AxesSubplot at 0x7f660e10b198>"
            ]
          },
          "metadata": {
            "tags": []
          },
          "execution_count": 10
        },
        {
          "output_type": "display_data",
          "data": {
            "image/png": "[encoded data removed]",
            "text/plain": [
              "<Figure size 432x288 with 1 Axes>"
            ]
          },
          "metadata": {
            "tags": [],
            "needs_background": "light"
          }
        }
      ]
    },
    {
      "cell_type": "markdown",
      "metadata": {
        "id": "LR2G_573F1P4",
        "colab_type": "text"
      },
      "source": [
        "the scores are between 40% and 100% the median of scores taken  is 80%\n",
        "\n",
        "1.   List item\n",
        "2.   List item\n",
        "\n"
      ]
    },
    {
      "cell_type": "code",
      "metadata": {
        "id": "mZlzs5u4lKCI",
        "colab_type": "code",
        "colab": {
          "base_uri": "https://localhost:8080/",
          "height": 500
        },
        "outputId": "705615c1-e511-48ca-db7b-e5ce2b64a81a"
      },
      "source": [
        "import matplotlib.pyplot as plt \n",
        "questions1=onetoone_unsupervised_machine_learning.drop(['student id', 'skill','score'], axis=1)\n",
        "questions=onetoone_unsupervised_machine_learning.drop(['student id', 'skill','score'], axis=1).sum()\n",
        "questions.plot(kind='pie', subplots=True, figsize=(16,8))"
      ],
      "execution_count": null,
      "outputs": [
        {
          "output_type": "execute_result",
          "data": {
            "text/plain": [
              "array([<matplotlib.axes._subplots.AxesSubplot object at 0x7f660dbde198>],\n",
              "      dtype=object)"
            ]
          },
          "metadata": {
            "tags": []
          },
          "execution_count": 11
        },
        {
          "output_type": "display_data",
          "data": {
            "image/png": "[encoded data removed]",
            "text/plain": [
              "<Figure size 1152x576 with 1 Axes>"
            ]
          },
          "metadata": {
            "tags": []
          }
        }
      ]
    },
    {
      "cell_type": "code",
      "metadata": {
        "id": "SqS7y1Sl34hO",
        "colab_type": "code",
        "colab": {}
      },
      "source": [
        "List_0=pd.melt(questions1).groupby([\"value\",\"variable\"])['variable'].count()[0].sort_values(ascending =False).head(3).keys().tolist()"
      ],
      "execution_count": null,
      "outputs": []
    },
    {
      "cell_type": "code",
      "metadata": {
        "id": "qSTvOVryYYQ2",
        "colab_type": "code",
        "colab": {
          "base_uri": "https://localhost:8080/",
          "height": 68
        },
        "outputId": "5563071b-8960-406c-b9ee-f86ea264a074"
      },
      "source": [
        "for x in List_0:\n",
        "  print(x)\n",
        "  "
      ],
      "execution_count": null,
      "outputs": [
        {
          "output_type": "stream",
          "text": [
            "question9\n",
            "question8\n",
            "question5\n"
          ],
          "name": "stdout"
        }
      ]
    },
    {
      "cell_type": "markdown",
      "metadata": {
        "id": "flcoDHdm5Snt",
        "colab_type": "text"
      },
      "source": [
        "question 8,question5 and question9 are the most questions with low understanding scores"
      ]
    },
    {
      "cell_type": "code",
      "metadata": {
        "id": "B16bXdth47tB",
        "colab_type": "code",
        "colab": {}
      },
      "source": [
        "questions1=onetoone_unsupervised_machine_learning.drop(['student id', 'skill','score'], axis=1)\n",
        "mean=onetoone_unsupervised_machine_learning.drop(['student id', 'skill','score'], axis=1).mean()"
      ],
      "execution_count": null,
      "outputs": []
    },
    {
      "cell_type": "code",
      "metadata": {
        "id": "Sgo6SuxU8mEL",
        "colab_type": "code",
        "colab": {
          "base_uri": "https://localhost:8080/",
          "height": 514
        },
        "outputId": "975bd7d2-5dc8-47ec-ddbb-545cda0bceec"
      },
      "source": [
        "plt.figure(figsize=(8,8))\n",
        "sns.countplot(x='value', hue='variable',data=pd.melt(questions1))"
      ],
      "execution_count": null,
      "outputs": [
        {
          "output_type": "execute_result",
          "data": {
            "text/plain": [
              "<matplotlib.axes._subplots.AxesSubplot at 0x7f660e0a8400>"
            ]
          },
          "metadata": {
            "tags": []
          },
          "execution_count": 15
        },
        {
          "output_type": "display_data",
          "data": {
            "image/png": "[encoded data removed]",
            "text/plain": [
              "<Figure size 576x576 with 1 Axes>"
            ]
          },
          "metadata": {
            "tags": [],
            "needs_background": "light"
          }
        }
      ]
    },
    {
      "cell_type": "markdown",
      "metadata": {
        "id": "aSekarlQox7r",
        "colab_type": "text"
      },
      "source": [
        "as we see here that the most difficult question are question:5"
      ]
    },
    {
      "cell_type": "code",
      "metadata": {
        "id": "BpXDi7LHzk0e",
        "colab_type": "code",
        "colab": {
          "base_uri": "https://localhost:8080/",
          "height": 255
        },
        "outputId": "dcab933c-104b-4273-ee2d-ae201da481fe"
      },
      "source": [
        "unsupervised_machine_learning_variable_value=pd.melt(questions1)\n",
        "print (unsupervised_machine_learning_variable_value)"
      ],
      "execution_count": null,
      "outputs": [
        {
          "output_type": "stream",
          "text": [
            "      variable  value\n",
            "0   question 1      2\n",
            "1   question 1      2\n",
            "2   question 1      2\n",
            "3   question 1      2\n",
            "4   question 1      2\n",
            "..         ...    ...\n",
            "95  question10      2\n",
            "96  question10      2\n",
            "97  question10      2\n",
            "98  question10      0\n",
            "99  question10      2\n",
            "\n",
            "[100 rows x 2 columns]\n"
          ],
          "name": "stdout"
        }
      ]
    },
    {
      "cell_type": "code",
      "metadata": {
        "id": "UfacUn4lvaO7",
        "colab_type": "code",
        "colab": {
          "base_uri": "https://localhost:8080/",
          "height": 68
        },
        "outputId": "9d434a78-8313-4568-f745-06b811f80211"
      },
      "source": [
        "q=[9,8,5]\n",
        "for Q in q:\n",
        "  print(k[k['1to1_question_number']==Q]['skill'].values)\n",
        "  \n"
      ],
      "execution_count": null,
      "outputs": [
        {
          "output_type": "stream",
          "text": [
            "['Lift interpretation']\n",
            "['Apriori concept']\n",
            "['K-means concept']\n"
          ],
          "name": "stdout"
        }
      ]
    },
    {
      "cell_type": "code",
      "metadata": {
        "id": "RpZfjCnQF21D",
        "colab_type": "code",
        "colab": {}
      },
      "source": [
        ""
      ],
      "execution_count": null,
      "outputs": []
    }
  ]
}