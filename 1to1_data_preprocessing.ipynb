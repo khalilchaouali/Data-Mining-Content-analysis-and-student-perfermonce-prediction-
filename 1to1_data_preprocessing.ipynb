{
  "nbformat": 4,
  "nbformat_minor": 0,
  "metadata": {
    "colab": {
      "name": "1to1_data_preprocessing.ipynb",
      "provenance": []
    },
    "kernelspec": {
      "name": "python3",
      "display_name": "Python 3"
    }
  },
  "cells": [
    {
      "cell_type": "code",
      "metadata": {
        "id": "81oVDYk40X40",
        "colab_type": "code",
        "colab": {}
      },
      "source": [
        "import pandas as pd"
      ],
      "execution_count": null,
      "outputs": []
    },
    {
      "cell_type": "code",
      "metadata": {
        "id": "tPVZLoRo03me",
        "colab_type": "code",
        "colab": {}
      },
      "source": [
        "skill_superskill=pd.read_csv('/content/skills_superskills_associated_cleaned.csv')\n",
        "onetoone=pd.read_csv('/content/one_to_one_cleaned.csv')"
      ],
      "execution_count": null,
      "outputs": []
    },
    {
      "cell_type": "code",
      "metadata": {
        "id": "mrkplGrUfjzS",
        "colab_type": "code",
        "colab": {}
      },
      "source": [
        "k=skill_superskill[skill_superskill['super skill']=='data-preprocessing' ]"
      ],
      "execution_count": null,
      "outputs": []
    },
    {
      "cell_type": "code",
      "metadata": {
        "id": "3ZfZsNoJfxaI",
        "colab_type": "code",
        "colab": {
          "base_uri": "https://localhost:8080/",
          "height": 134
        },
        "outputId": "f36841e1-0a60-4ef6-a32b-d1396e3d0514"
      },
      "source": [
        "k[skill_superskill['1to1_question_number']==9]"
      ],
      "execution_count": null,
      "outputs": [
        {
          "output_type": "stream",
          "text": [
            "/usr/local/lib/python3.6/dist-packages/ipykernel_launcher.py:1: UserWarning: Boolean Series key will be reindexed to match DataFrame index.\n",
            "  \"\"\"Entry point for launching an IPython kernel.\n"
          ],
          "name": "stderr"
        },
        {
          "output_type": "execute_result",
          "data": {
            "text/html": [
              "<div>\n",
              "<style scoped>\n",
              "    .dataframe tbody tr th:only-of-type {\n",
              "        vertical-align: middle;\n",
              "    }\n",
              "\n",
              "    .dataframe tbody tr th {\n",
              "        vertical-align: top;\n",
              "    }\n",
              "\n",
              "    .dataframe thead th {\n",
              "        text-align: right;\n",
              "    }\n",
              "</style>\n",
              "<table border=\"1\" class=\"dataframe\">\n",
              "  <thead>\n",
              "    <tr style=\"text-align: right;\">\n",
              "      <th></th>\n",
              "      <th>Unnamed: 0</th>\n",
              "      <th>skill</th>\n",
              "      <th>super skill</th>\n",
              "      <th>1to1_question_number</th>\n",
              "    </tr>\n",
              "  </thead>\n",
              "  <tbody>\n",
              "    <tr>\n",
              "      <th>106</th>\n",
              "      <td>106</td>\n",
              "      <td>finding-missing-values-isnull-sum</td>\n",
              "      <td>data-preprocessing</td>\n",
              "      <td>9</td>\n",
              "    </tr>\n",
              "  </tbody>\n",
              "</table>\n",
              "</div>"
            ],
            "text/plain": [
              "     Unnamed: 0  ... 1to1_question_number\n",
              "106         106  ...                    9\n",
              "\n",
              "[1 rows x 4 columns]"
            ]
          },
          "metadata": {
            "tags": []
          },
          "execution_count": 4
        }
      ]
    },
    {
      "cell_type": "code",
      "metadata": {
        "id": "8G-jdPkfYvK9",
        "colab_type": "code",
        "colab": {
          "base_uri": "https://localhost:8080/",
          "height": 119
        },
        "outputId": "789857b4-a75f-4c1f-dd6b-7de4a9ebabe1"
      },
      "source": [
        "skill_question_issus={}\n",
        "skill_superskill['super skill'].value_counts().keys().tolist()"
      ],
      "execution_count": null,
      "outputs": [
        {
          "output_type": "execute_result",
          "data": {
            "text/plain": [
              "['supervised-machine-learning',\n",
              " 'python',\n",
              " 'unsupervised-machine-learning',\n",
              " 'data-visualization',\n",
              " 'data-preprocessing',\n",
              " \"Let's start\"]"
            ]
          },
          "metadata": {
            "tags": []
          },
          "execution_count": 5
        }
      ]
    },
    {
      "cell_type": "code",
      "metadata": {
        "id": "F3KmTc_Cf0rD",
        "colab_type": "code",
        "colab": {}
      },
      "source": [
        "skill_superskill_data_preprocessing=skill_superskill[skill_superskill['super skill']=='data-preprocessing']\n",
        "onetoone_data_preprocessing=onetoone[onetoone['skill']=='data-preprocessing']"
      ],
      "execution_count": null,
      "outputs": []
    },
    {
      "cell_type": "code",
      "metadata": {
        "id": "7Fz7jxwqg-4z",
        "colab_type": "code",
        "colab": {}
      },
      "source": [
        "\n",
        "!pip install autoplotter"
      ],
      "execution_count": null,
      "outputs": []
    },
    {
      "cell_type": "code",
      "metadata": {
        "id": "mwjIbPQDmD0j",
        "colab_type": "code",
        "colab": {
          "base_uri": "https://localhost:8080/",
          "height": 966
        },
        "outputId": "0edef646-98f8-436a-aa87-c1f1e054a892"
      },
      "source": [
        "onetoone_data_preprocessing"
      ],
      "execution_count": null,
      "outputs": [
        {
          "output_type": "execute_result",
          "data": {
            "text/html": [
              "<div>\n",
              "<style scoped>\n",
              "    .dataframe tbody tr th:only-of-type {\n",
              "        vertical-align: middle;\n",
              "    }\n",
              "\n",
              "    .dataframe tbody tr th {\n",
              "        vertical-align: top;\n",
              "    }\n",
              "\n",
              "    .dataframe thead th {\n",
              "        text-align: right;\n",
              "    }\n",
              "</style>\n",
              "<table border=\"1\" class=\"dataframe\">\n",
              "  <thead>\n",
              "    <tr style=\"text-align: right;\">\n",
              "      <th></th>\n",
              "      <th>student id</th>\n",
              "      <th>skill</th>\n",
              "      <th>score</th>\n",
              "      <th>question 1</th>\n",
              "      <th>question 2</th>\n",
              "      <th>question3</th>\n",
              "      <th>question4</th>\n",
              "      <th>question5</th>\n",
              "      <th>question6</th>\n",
              "      <th>question7</th>\n",
              "      <th>question8</th>\n",
              "      <th>question9</th>\n",
              "      <th>question10</th>\n",
              "    </tr>\n",
              "  </thead>\n",
              "  <tbody>\n",
              "    <tr>\n",
              "      <th>108</th>\n",
              "      <td>0cebb3ce-aabe-423e-af68-81ac8ced5da6</td>\n",
              "      <td>data-preprocessing</td>\n",
              "      <td>0.9</td>\n",
              "      <td>0</td>\n",
              "      <td>2</td>\n",
              "      <td>2</td>\n",
              "      <td>2</td>\n",
              "      <td>2</td>\n",
              "      <td>2</td>\n",
              "      <td>2</td>\n",
              "      <td>2</td>\n",
              "      <td>2</td>\n",
              "      <td>2</td>\n",
              "    </tr>\n",
              "    <tr>\n",
              "      <th>109</th>\n",
              "      <td>f86b230c-75b1-4942-b7f9-c04bc67e13a2</td>\n",
              "      <td>data-preprocessing</td>\n",
              "      <td>0.7</td>\n",
              "      <td>0</td>\n",
              "      <td>0</td>\n",
              "      <td>2</td>\n",
              "      <td>0</td>\n",
              "      <td>2</td>\n",
              "      <td>2</td>\n",
              "      <td>2</td>\n",
              "      <td>2</td>\n",
              "      <td>2</td>\n",
              "      <td>2</td>\n",
              "    </tr>\n",
              "    <tr>\n",
              "      <th>110</th>\n",
              "      <td>a8046ba0-675c-453c-802c-b25c42821a99</td>\n",
              "      <td>data-preprocessing</td>\n",
              "      <td>0.7</td>\n",
              "      <td>2</td>\n",
              "      <td>0</td>\n",
              "      <td>2</td>\n",
              "      <td>0</td>\n",
              "      <td>0</td>\n",
              "      <td>2</td>\n",
              "      <td>2</td>\n",
              "      <td>2</td>\n",
              "      <td>2</td>\n",
              "      <td>2</td>\n",
              "    </tr>\n",
              "    <tr>\n",
              "      <th>111</th>\n",
              "      <td>592359a2-db7e-4eb3-9a8f-c7c62ffa1866</td>\n",
              "      <td>data-preprocessing</td>\n",
              "      <td>0.6</td>\n",
              "      <td>2</td>\n",
              "      <td>2</td>\n",
              "      <td>2</td>\n",
              "      <td>0</td>\n",
              "      <td>2</td>\n",
              "      <td>2</td>\n",
              "      <td>2</td>\n",
              "      <td>0</td>\n",
              "      <td>0</td>\n",
              "      <td>0</td>\n",
              "    </tr>\n",
              "    <tr>\n",
              "      <th>112</th>\n",
              "      <td>8c1fc1d5-e2b9-4c85-a9fc-87d6b225f996</td>\n",
              "      <td>data-preprocessing</td>\n",
              "      <td>1.0</td>\n",
              "      <td>2</td>\n",
              "      <td>2</td>\n",
              "      <td>2</td>\n",
              "      <td>2</td>\n",
              "      <td>2</td>\n",
              "      <td>2</td>\n",
              "      <td>2</td>\n",
              "      <td>2</td>\n",
              "      <td>2</td>\n",
              "      <td>2</td>\n",
              "    </tr>\n",
              "    <tr>\n",
              "      <th>...</th>\n",
              "      <td>...</td>\n",
              "      <td>...</td>\n",
              "      <td>...</td>\n",
              "      <td>...</td>\n",
              "      <td>...</td>\n",
              "      <td>...</td>\n",
              "      <td>...</td>\n",
              "      <td>...</td>\n",
              "      <td>...</td>\n",
              "      <td>...</td>\n",
              "      <td>...</td>\n",
              "      <td>...</td>\n",
              "      <td>...</td>\n",
              "    </tr>\n",
              "    <tr>\n",
              "      <th>170</th>\n",
              "      <td>0e38367f-d2e1-4136-b134-ba012b3a29c9</td>\n",
              "      <td>data-preprocessing</td>\n",
              "      <td>1.0</td>\n",
              "      <td>2</td>\n",
              "      <td>2</td>\n",
              "      <td>2</td>\n",
              "      <td>2</td>\n",
              "      <td>2</td>\n",
              "      <td>2</td>\n",
              "      <td>2</td>\n",
              "      <td>2</td>\n",
              "      <td>2</td>\n",
              "      <td>2</td>\n",
              "    </tr>\n",
              "    <tr>\n",
              "      <th>171</th>\n",
              "      <td>171832de-cbf6-415c-bef5-5206a463a5c9</td>\n",
              "      <td>data-preprocessing</td>\n",
              "      <td>1.0</td>\n",
              "      <td>2</td>\n",
              "      <td>2</td>\n",
              "      <td>2</td>\n",
              "      <td>2</td>\n",
              "      <td>2</td>\n",
              "      <td>2</td>\n",
              "      <td>2</td>\n",
              "      <td>2</td>\n",
              "      <td>2</td>\n",
              "      <td>2</td>\n",
              "    </tr>\n",
              "    <tr>\n",
              "      <th>172</th>\n",
              "      <td>e83dc41b-188e-441a-9215-ff3174118377</td>\n",
              "      <td>data-preprocessing</td>\n",
              "      <td>0.8</td>\n",
              "      <td>1</td>\n",
              "      <td>1</td>\n",
              "      <td>2</td>\n",
              "      <td>1</td>\n",
              "      <td>2</td>\n",
              "      <td>2</td>\n",
              "      <td>2</td>\n",
              "      <td>2</td>\n",
              "      <td>2</td>\n",
              "      <td>1</td>\n",
              "    </tr>\n",
              "    <tr>\n",
              "      <th>173</th>\n",
              "      <td>c630a4c4-2b42-4231-9c98-aeafba7e58c0</td>\n",
              "      <td>data-preprocessing</td>\n",
              "      <td>0.9</td>\n",
              "      <td>2</td>\n",
              "      <td>2</td>\n",
              "      <td>2</td>\n",
              "      <td>2</td>\n",
              "      <td>0</td>\n",
              "      <td>2</td>\n",
              "      <td>2</td>\n",
              "      <td>2</td>\n",
              "      <td>2</td>\n",
              "      <td>2</td>\n",
              "    </tr>\n",
              "    <tr>\n",
              "      <th>174</th>\n",
              "      <td>dad1dd4a-ca2a-452a-bb1f-825c695cfb36</td>\n",
              "      <td>data-preprocessing</td>\n",
              "      <td>0.9</td>\n",
              "      <td>0</td>\n",
              "      <td>2</td>\n",
              "      <td>2</td>\n",
              "      <td>2</td>\n",
              "      <td>2</td>\n",
              "      <td>2</td>\n",
              "      <td>2</td>\n",
              "      <td>2</td>\n",
              "      <td>2</td>\n",
              "      <td>2</td>\n",
              "    </tr>\n",
              "  </tbody>\n",
              "</table>\n",
              "<p>67 rows × 13 columns</p>\n",
              "</div>"
            ],
            "text/plain": [
              "                               student id  ... question10\n",
              "108  0cebb3ce-aabe-423e-af68-81ac8ced5da6  ...          2\n",
              "109  f86b230c-75b1-4942-b7f9-c04bc67e13a2  ...          2\n",
              "110  a8046ba0-675c-453c-802c-b25c42821a99  ...          2\n",
              "111  592359a2-db7e-4eb3-9a8f-c7c62ffa1866  ...          0\n",
              "112  8c1fc1d5-e2b9-4c85-a9fc-87d6b225f996  ...          2\n",
              "..                                    ...  ...        ...\n",
              "170  0e38367f-d2e1-4136-b134-ba012b3a29c9  ...          2\n",
              "171  171832de-cbf6-415c-bef5-5206a463a5c9  ...          2\n",
              "172  e83dc41b-188e-441a-9215-ff3174118377  ...          1\n",
              "173  c630a4c4-2b42-4231-9c98-aeafba7e58c0  ...          2\n",
              "174  dad1dd4a-ca2a-452a-bb1f-825c695cfb36  ...          2\n",
              "\n",
              "[67 rows x 13 columns]"
            ]
          },
          "metadata": {
            "tags": []
          },
          "execution_count": 7
        }
      ]
    },
    {
      "cell_type": "code",
      "metadata": {
        "id": "icZdgMKihQr_",
        "colab_type": "code",
        "colab": {
          "base_uri": "https://localhost:8080/",
          "height": 323
        },
        "outputId": "6b6454eb-3d07-473e-da40-3905bd9e6fc0"
      },
      "source": [
        "import seaborn as sns\n",
        "sns.boxplot( y=onetoone_data_preprocessing['score'] )"
      ],
      "execution_count": null,
      "outputs": [
        {
          "output_type": "stream",
          "text": [
            "/usr/local/lib/python3.6/dist-packages/statsmodels/tools/_testing.py:19: FutureWarning: pandas.util.testing is deprecated. Use the functions in the public API at pandas.testing instead.\n",
            "  import pandas.util.testing as tm\n"
          ],
          "name": "stderr"
        },
        {
          "output_type": "execute_result",
          "data": {
            "text/plain": [
              "<matplotlib.axes._subplots.AxesSubplot at 0x7f54bff0af60>"
            ]
          },
          "metadata": {
            "tags": []
          },
          "execution_count": 8
        },
        {
          "output_type": "display_data",
          "data": {
            "image/png": "[encoded data removed]",
            "text/plain": [
              "<Figure size 432x288 with 1 Axes>"
            ]
          },
          "metadata": {
            "tags": [],
            "needs_background": "light"
          }
        }
      ]
    },
    {
      "cell_type": "markdown",
      "metadata": {
        "id": "LR2G_573F1P4",
        "colab_type": "text"
      },
      "source": [
        "the scores are between 40% and 100% the median of scores taken  is 80%\n",
        "\n",
        "1.   List item\n",
        "2.   List item\n",
        "\n"
      ]
    },
    {
      "cell_type": "code",
      "metadata": {
        "id": "mZlzs5u4lKCI",
        "colab_type": "code",
        "colab": {
          "base_uri": "https://localhost:8080/",
          "height": 500
        },
        "outputId": "84f22522-6634-4e8b-add4-77e8dc5d6f72"
      },
      "source": [
        "import matplotlib.pyplot as plt \n",
        "questions1=onetoone_data_preprocessing.drop(['student id', 'skill','score'], axis=1)\n",
        "questions=onetoone_data_preprocessing.drop(['student id', 'skill','score'], axis=1).sum()\n",
        "questions.plot(kind='pie', subplots=True, figsize=(16,8))"
      ],
      "execution_count": null,
      "outputs": [
        {
          "output_type": "execute_result",
          "data": {
            "text/plain": [
              "array([<matplotlib.axes._subplots.AxesSubplot object at 0x7f54bf980940>],\n",
              "      dtype=object)"
            ]
          },
          "metadata": {
            "tags": []
          },
          "execution_count": 9
        },
        {
          "output_type": "display_data",
          "data": {
            "image/png": "[encoded data removed]",
            "text/plain": [
              "<Figure size 1152x576 with 1 Axes>"
            ]
          },
          "metadata": {
            "tags": []
          }
        }
      ]
    },
    {
      "cell_type": "code",
      "metadata": {
        "id": "SqS7y1Sl34hO",
        "colab_type": "code",
        "colab": {}
      },
      "source": [
        "List_0=pd.melt(questions1).groupby([\"value\",\"variable\"])['variable'].count()[0].sort_values(ascending =False).head(3).keys().tolist()"
      ],
      "execution_count": null,
      "outputs": []
    },
    {
      "cell_type": "code",
      "metadata": {
        "id": "qSTvOVryYYQ2",
        "colab_type": "code",
        "colab": {
          "base_uri": "https://localhost:8080/",
          "height": 68
        },
        "outputId": "c267b930-dd05-4b7e-dede-0b8ddcebfb7d"
      },
      "source": [
        "for x in List_0:\n",
        "  print(x)\n",
        "  "
      ],
      "execution_count": null,
      "outputs": [
        {
          "output_type": "stream",
          "text": [
            "question 1\n",
            "question10\n",
            "question5\n"
          ],
          "name": "stdout"
        }
      ]
    },
    {
      "cell_type": "markdown",
      "metadata": {
        "id": "flcoDHdm5Snt",
        "colab_type": "text"
      },
      "source": [
        "[link text](https://)question 1,question5 and question10 are the most questions with low understanding scores"
      ]
    },
    {
      "cell_type": "code",
      "metadata": {
        "id": "B16bXdth47tB",
        "colab_type": "code",
        "colab": {}
      },
      "source": [
        "questions1=onetoone_data_preprocessing.drop(['student id', 'skill','score'], axis=1)\n",
        "mean=onetoone_data_preprocessing.drop(['student id', 'skill','score'], axis=1).mean()"
      ],
      "execution_count": null,
      "outputs": []
    },
    {
      "cell_type": "code",
      "metadata": {
        "id": "Sgo6SuxU8mEL",
        "colab_type": "code",
        "colab": {
          "base_uri": "https://localhost:8080/",
          "height": 514
        },
        "outputId": "b3baaeae-0f1d-4fb9-b7ad-b6bad60f3190"
      },
      "source": [
        "plt.figure(figsize=(8,8))\n",
        "sns.countplot(x='value', hue='variable',data=pd.melt(questions1))"
      ],
      "execution_count": null,
      "outputs": [
        {
          "output_type": "execute_result",
          "data": {
            "text/plain": [
              "<matplotlib.axes._subplots.AxesSubplot at 0x7f54bfe61780>"
            ]
          },
          "metadata": {
            "tags": []
          },
          "execution_count": 13
        },
        {
          "output_type": "display_data",
          "data": {
            "image/png": "[encoded data removed]",
            "text/plain": [
              "<Figure size 576x576 with 1 Axes>"
            ]
          },
          "metadata": {
            "tags": [],
            "needs_background": "light"
          }
        }
      ]
    },
    {
      "cell_type": "code",
      "metadata": {
        "id": "BpXDi7LHzk0e",
        "colab_type": "code",
        "colab": {
          "base_uri": "https://localhost:8080/",
          "height": 255
        },
        "outputId": "ce306fbe-7b26-4354-b663-fd9dab30004f"
      },
      "source": [
        "data_preprocessing_variable_value=pd.melt(questions1)\n",
        "print (data_preprocessing_variable_value)"
      ],
      "execution_count": null,
      "outputs": [
        {
          "output_type": "stream",
          "text": [
            "       variable  value\n",
            "0    question 1      0\n",
            "1    question 1      0\n",
            "2    question 1      2\n",
            "3    question 1      2\n",
            "4    question 1      2\n",
            "..          ...    ...\n",
            "665  question10      2\n",
            "666  question10      2\n",
            "667  question10      1\n",
            "668  question10      2\n",
            "669  question10      2\n",
            "\n",
            "[670 rows x 2 columns]\n"
          ],
          "name": "stdout"
        }
      ]
    },
    {
      "cell_type": "code",
      "metadata": {
        "id": "UfacUn4lvaO7",
        "colab_type": "code",
        "colab": {
          "base_uri": "https://localhost:8080/",
          "height": 68
        },
        "outputId": "e8a84516-a937-45d8-c6ea-3e72a1196ce7"
      },
      "source": [
        "q=[1,10,5]\n",
        "for Q in q:\n",
        "  print(k[k['1to1_question_number']==Q]['skill'].values)\n",
        "  \n"
      ],
      "execution_count": null,
      "outputs": [
        {
          "output_type": "stream",
          "text": [
            "[' Categorical data ']\n",
            "['one-hot-encoding-principal']\n",
            "[' why ?']\n"
          ],
          "name": "stdout"
        }
      ]
    },
    {
      "cell_type": "code",
      "metadata": {
        "id": "RpZfjCnQF21D",
        "colab_type": "code",
        "colab": {}
      },
      "source": [
        ""
      ],
      "execution_count": null,
      "outputs": []
    }
  ]
}